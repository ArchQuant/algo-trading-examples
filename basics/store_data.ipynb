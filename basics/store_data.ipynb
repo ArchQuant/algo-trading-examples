{
 "cells": [
  {
   "cell_type": "markdown",
   "id": "0f4e65c8-4b4f-48a1-92fb-ef792c7473a3",
   "metadata": {},
   "source": [
    "# Storing Financial Data Efficiently"
   ]
  },
  {
   "cell_type": "code",
   "execution_count": 105,
   "id": "96dbe60e-459c-4a8f-908d-8a3f50496c7d",
   "metadata": {},
   "outputs": [],
   "source": [
    "import pandas as pd\n",
    "from helpers.sample_generate import generate_sample_data"
   ]
  },
  {
   "cell_type": "code",
   "execution_count": 106,
   "id": "cb2ad0ef-e8fb-4e0e-80cf-260efd23cd6e",
   "metadata": {},
   "outputs": [
    {
     "name": "stdout",
     "output_type": "stream",
     "text": [
      "                            No0         No1         No2         No3\n",
      "2023-01-01 00:00:00  100.000000  100.000000  100.000000  100.000000\n",
      "2023-01-01 00:01:00  100.020396  100.029745  100.118653   99.998519\n",
      "2023-01-01 00:02:00  100.078400  100.107048  100.063882   99.937550\n",
      "2023-01-01 00:03:00  100.188669  100.260100  100.037083   99.998358\n",
      "2023-01-01 00:04:00  100.327860  100.161058  100.165164   99.949647\n"
     ]
    }
   ],
   "source": [
    "print(generate_sample_data(rows=5, cols=4, freq='1min'))"
   ]
  },
  {
   "cell_type": "markdown",
   "id": "c7203e0b-7c63-4e13-84d2-fa4d8941fcad",
   "metadata": {},
   "source": [
    "## HDFStore"
   ]
  },
  {
   "cell_type": "markdown",
   "id": "5beb0e1b-b685-4c6f-a9d8-da6007e85f57",
   "metadata": {},
   "source": [
    "### .h5 for immutable data"
   ]
  },
  {
   "cell_type": "code",
   "execution_count": 107,
   "id": "b233b003-9428-442b-97ad-d04c1a086023",
   "metadata": {},
   "outputs": [
    {
     "name": "stdout",
     "output_type": "stream",
     "text": [
      "Wall time: 8.94 ms\n"
     ]
    }
   ],
   "source": [
    "%time data = generate_sample_data(rows=1e3, cols=10, freq='D').round(4)"
   ]
  },
  {
   "cell_type": "code",
   "execution_count": 108,
   "id": "83589529-07ef-4381-b06d-c301da29e497",
   "metadata": {},
   "outputs": [
    {
     "name": "stdout",
     "output_type": "stream",
     "text": [
      "<class 'pandas.core.frame.DataFrame'>\n",
      "DatetimeIndex: 1000 entries, 2023-01-01 to 2025-09-26\n",
      "Freq: D\n",
      "Data columns (total 10 columns):\n",
      " #   Column  Non-Null Count  Dtype  \n",
      "---  ------  --------------  -----  \n",
      " 0   No0     1000 non-null   float64\n",
      " 1   No1     1000 non-null   float64\n",
      " 2   No2     1000 non-null   float64\n",
      " 3   No3     1000 non-null   float64\n",
      " 4   No4     1000 non-null   float64\n",
      " 5   No5     1000 non-null   float64\n",
      " 6   No6     1000 non-null   float64\n",
      " 7   No7     1000 non-null   float64\n",
      " 8   No8     1000 non-null   float64\n",
      " 9   No9     1000 non-null   float64\n",
      "dtypes: float64(10)\n",
      "memory usage: 85.9 KB\n"
     ]
    }
   ],
   "source": [
    "data.info()"
   ]
  },
  {
   "cell_type": "markdown",
   "id": "5352b65c-ea44-48a4-a006-1a1937be1d18",
   "metadata": {},
   "source": [
    "### HDFStore write to .h5"
   ]
  },
  {
   "cell_type": "code",
   "execution_count": 109,
   "id": "8efb0e1f-c4cb-4810-b49b-8296be0bcd48",
   "metadata": {},
   "outputs": [],
   "source": [
    "h5 = pd.HDFStore('data/data.h5', 'w')"
   ]
  },
  {
   "cell_type": "code",
   "execution_count": 110,
   "id": "1c631b6c-340a-42d4-bfee-9117c9974ad7",
   "metadata": {},
   "outputs": [
    {
     "name": "stdout",
     "output_type": "stream",
     "text": [
      "Wall time: 10.2 ms\n"
     ]
    }
   ],
   "source": [
    "%time h5['data'] = data"
   ]
  },
  {
   "cell_type": "code",
   "execution_count": 111,
   "id": "6ae0764b-ebcd-4172-bf33-cf8a443aaa43",
   "metadata": {},
   "outputs": [
    {
     "data": {
      "text/plain": [
       "<class 'pandas.io.pytables.HDFStore'>\n",
       "File path: data/data.h5"
      ]
     },
     "execution_count": 111,
     "metadata": {},
     "output_type": "execute_result"
    }
   ],
   "source": [
    "h5"
   ]
  },
  {
   "cell_type": "code",
   "execution_count": 112,
   "id": "e703771e-bad1-437e-a05d-fb340a1b9af0",
   "metadata": {},
   "outputs": [],
   "source": [
    "h5.close()"
   ]
  },
  {
   "cell_type": "code",
   "execution_count": 113,
   "id": "b9e22dff-cc16-4f89-b2a8-933b3fdae555",
   "metadata": {},
   "outputs": [
    {
     "name": "stdout",
     "output_type": "stream",
     "text": [
      " Volume in drive C is OS\n",
      " Volume Serial Number is 8A40-DA6B\n",
      "\n",
      " Directory of C:\\Users\\Michael\\source\\algo-trading-examples\n",
      "\n",
      "\n",
      " Directory of C:\\Users\\Michael\\source\\algo-trading-examples\\data\n",
      "\n",
      "2023/12/25  23:02    <DIR>          .\n",
      "2023/12/25  23:02    <DIR>          ..\n",
      "2023/12/27  10:49           176,760 aapl.json\n",
      "2023/12/27  10:49           129,024 aapl.xls\n",
      "2023/12/27  10:49            58,640 aapl.xlsx\n",
      "2023/12/13  22:41        29,580,549 all_stocks_5yr.csv\n",
      "2023/12/27  10:50            95,240 data.h5\n",
      "2023/12/25  18:27           152,942 data2.h5\n",
      "2023/12/25  23:01           245,030 pyalgo_eikon_eod_data.csv\n",
      "               7 File(s)     30,438,185 bytes\n",
      "               2 Dir(s)  62,498,336,768 bytes free\n"
     ]
    },
    {
     "name": "stderr",
     "output_type": "stream",
     "text": [
      "File Not Found\n"
     ]
    }
   ],
   "source": [
    "ls -n data"
   ]
  },
  {
   "cell_type": "markdown",
   "id": "3bacf95f-04a9-4de3-a7e3-0d37e0bac8a9",
   "metadata": {},
   "source": [
    "### HDFStore read from .h5"
   ]
  },
  {
   "cell_type": "code",
   "execution_count": 114,
   "id": "fde6f06f-4cf8-4721-ac82-f357a397e912",
   "metadata": {},
   "outputs": [
    {
     "name": "stdout",
     "output_type": "stream",
     "text": [
      "Wall time: 6.99 ms\n"
     ]
    }
   ],
   "source": [
    "h5 = pd.HDFStore('data/data.h5', 'r')\n",
    "%time data_copy = h5['data']"
   ]
  },
  {
   "cell_type": "code",
   "execution_count": 115,
   "id": "17039ef3-8505-4a61-8788-8081c9ea693d",
   "metadata": {},
   "outputs": [
    {
     "name": "stdout",
     "output_type": "stream",
     "text": [
      "<class 'pandas.core.frame.DataFrame'>\n",
      "DatetimeIndex: 1000 entries, 2023-01-01 to 2025-09-26\n",
      "Freq: D\n",
      "Data columns (total 10 columns):\n",
      " #   Column  Non-Null Count  Dtype  \n",
      "---  ------  --------------  -----  \n",
      " 0   No0     1000 non-null   float64\n",
      " 1   No1     1000 non-null   float64\n",
      " 2   No2     1000 non-null   float64\n",
      " 3   No3     1000 non-null   float64\n",
      " 4   No4     1000 non-null   float64\n",
      " 5   No5     1000 non-null   float64\n",
      " 6   No6     1000 non-null   float64\n",
      " 7   No7     1000 non-null   float64\n",
      " 8   No8     1000 non-null   float64\n",
      " 9   No9     1000 non-null   float64\n",
      "dtypes: float64(10)\n",
      "memory usage: 85.9 KB\n"
     ]
    }
   ],
   "source": [
    "data_copy.info()"
   ]
  },
  {
   "cell_type": "code",
   "execution_count": 116,
   "id": "31d2fc24-58a6-448a-9452-6c4f8d094e77",
   "metadata": {},
   "outputs": [],
   "source": [
    "h5.close()"
   ]
  },
  {
   "cell_type": "markdown",
   "id": "30308b4c-2176-4ef9-9a15-3e3212ddbccc",
   "metadata": {},
   "source": [
    "### Pandas write to .h5 with to_hdf()"
   ]
  },
  {
   "cell_type": "code",
   "execution_count": 117,
   "id": "635a1560-694f-4993-b2ac-b93b9872ce19",
   "metadata": {},
   "outputs": [],
   "source": [
    "data.to_hdf('data/data2.h5', 'data', format='table')"
   ]
  },
  {
   "cell_type": "code",
   "execution_count": 118,
   "id": "19531acd-a0f3-4520-8d24-feaedfca4e98",
   "metadata": {},
   "outputs": [],
   "source": [
    "data_copy2 = pd.read_hdf('data/data2.h5', 'data')"
   ]
  },
  {
   "cell_type": "code",
   "execution_count": 119,
   "id": "f740baa6-cfca-49cd-a6f1-fc5526360830",
   "metadata": {},
   "outputs": [
    {
     "name": "stdout",
     "output_type": "stream",
     "text": [
      "<class 'pandas.core.frame.DataFrame'>\n",
      "DatetimeIndex: 1000 entries, 2023-01-01 to 2025-09-26\n",
      "Freq: D\n",
      "Data columns (total 10 columns):\n",
      " #   Column  Non-Null Count  Dtype  \n",
      "---  ------  --------------  -----  \n",
      " 0   No0     1000 non-null   float64\n",
      " 1   No1     1000 non-null   float64\n",
      " 2   No2     1000 non-null   float64\n",
      " 3   No3     1000 non-null   float64\n",
      " 4   No4     1000 non-null   float64\n",
      " 5   No5     1000 non-null   float64\n",
      " 6   No6     1000 non-null   float64\n",
      " 7   No7     1000 non-null   float64\n",
      " 8   No8     1000 non-null   float64\n",
      " 9   No9     1000 non-null   float64\n",
      "dtypes: float64(10)\n",
      "memory usage: 85.9 KB\n"
     ]
    }
   ],
   "source": [
    "data_copy2.info()"
   ]
  },
  {
   "cell_type": "markdown",
   "id": "80bd84cb-0584-4e41-aae5-ec21a57a9c65",
   "metadata": {},
   "source": [
    "### Reading .h5 using PyTables (tables)"
   ]
  },
  {
   "cell_type": "code",
   "execution_count": 120,
   "id": "fb88b159-73cc-4f91-93fe-9019a481596e",
   "metadata": {},
   "outputs": [],
   "source": [
    "import tables as tb"
   ]
  },
  {
   "cell_type": "code",
   "execution_count": 121,
   "id": "408e5bff-bfa9-47ef-95f1-504731aafc3b",
   "metadata": {},
   "outputs": [],
   "source": [
    "h5 = tb.open_file('data/data.h5.', 'r')"
   ]
  },
  {
   "cell_type": "code",
   "execution_count": 122,
   "id": "f8915694-36a5-4d72-8299-3701b837ef45",
   "metadata": {},
   "outputs": [
    {
     "data": {
      "text/plain": [
       "File(filename=data/data.h5., title='', mode='r', root_uep='/', filters=Filters(complevel=0, shuffle=False, bitshuffle=False, fletcher32=False, least_significant_digit=None))\n",
       "/ (RootGroup) ''\n",
       "/data (Group) ''\n",
       "/data/axis0 (Array(10,)) ''\n",
       "  atom := StringAtom(itemsize=3, shape=(), dflt=b'')\n",
       "  maindim := 0\n",
       "  flavor := 'numpy'\n",
       "  byteorder := 'irrelevant'\n",
       "  chunkshape := None\n",
       "/data/axis1 (Array(1000,)) ''\n",
       "  atom := Int64Atom(shape=(), dflt=0)\n",
       "  maindim := 0\n",
       "  flavor := 'numpy'\n",
       "  byteorder := 'little'\n",
       "  chunkshape := None\n",
       "/data/block0_items (Array(10,)) ''\n",
       "  atom := StringAtom(itemsize=3, shape=(), dflt=b'')\n",
       "  maindim := 0\n",
       "  flavor := 'numpy'\n",
       "  byteorder := 'irrelevant'\n",
       "  chunkshape := None\n",
       "/data/block0_values (Array(1000, 10)) ''\n",
       "  atom := Float64Atom(shape=(), dflt=0.0)\n",
       "  maindim := 0\n",
       "  flavor := 'numpy'\n",
       "  byteorder := 'little'\n",
       "  chunkshape := None"
      ]
     },
     "execution_count": 122,
     "metadata": {},
     "output_type": "execute_result"
    }
   ],
   "source": [
    "h5"
   ]
  },
  {
   "cell_type": "code",
   "execution_count": 123,
   "id": "cc221a1e-6957-444b-9407-bdef6a44120c",
   "metadata": {},
   "outputs": [],
   "source": [
    "h5.close()"
   ]
  },
  {
   "cell_type": "markdown",
   "id": "6f9a6642-ef8b-4208-ac2c-fd34e1aae508",
   "metadata": {},
   "source": [
    "## TsTables .h5ts for mutable and time series data"
   ]
  },
  {
   "cell_type": "code",
   "execution_count": 124,
   "id": "468cdb1e-5689-4fb4-9606-f5fa6be4ee94",
   "metadata": {},
   "outputs": [
    {
     "name": "stdout",
     "output_type": "stream",
     "text": [
      "Wall time: 1.2 s\n"
     ]
    }
   ],
   "source": [
    "%%time\n",
    "data = generate_sample_data(rows=2.5e6, cols=5,\n",
    "                            freq='1s').round(4)"
   ]
  },
  {
   "cell_type": "code",
   "execution_count": 125,
   "id": "31b8d402-94ba-41b1-a68a-ed54e7838129",
   "metadata": {},
   "outputs": [
    {
     "name": "stdout",
     "output_type": "stream",
     "text": [
      "<class 'pandas.core.frame.DataFrame'>\n",
      "DatetimeIndex: 2500000 entries, 2023-01-01 00:00:00 to 2023-01-29 22:26:39\n",
      "Freq: S\n",
      "Data columns (total 5 columns):\n",
      " #   Column  Dtype  \n",
      "---  ------  -----  \n",
      " 0   No0     float64\n",
      " 1   No1     float64\n",
      " 2   No2     float64\n",
      " 3   No3     float64\n",
      " 4   No4     float64\n",
      "dtypes: float64(5)\n",
      "memory usage: 114.4 MB\n"
     ]
    }
   ],
   "source": [
    "data.info()"
   ]
  },
  {
   "cell_type": "code",
   "execution_count": 126,
   "id": "bce543f2-0bff-41f3-b697-54ca1158afd6",
   "metadata": {},
   "outputs": [],
   "source": [
    "# pip install git+https://github.com/yhilpisch/tstables.git\n",
    "import tstables\n",
    "import tables as tb"
   ]
  },
  {
   "cell_type": "code",
   "execution_count": 127,
   "id": "fb24f057-4a6b-484e-a98d-5d33e217feed",
   "metadata": {},
   "outputs": [],
   "source": [
    "class desc(tb.IsDescription):\n",
    "    '''Description of TsTables table structure\n",
    "    '''\n",
    "    timestamp = tb.Int64Col(pos=0)\n",
    "    N0 = tb.Float64Col(pos=1)\n",
    "    N1 = tb.Float64Col(pos=2)\n",
    "    N2 = tb.Float64Col(pos=3)\n",
    "    N3 = tb.Float64Col(pos=4)\n",
    "    N4 = tb.Float64Col(pos=5)"
   ]
  },
  {
   "cell_type": "code",
   "execution_count": 128,
   "id": "6af45871-19e0-4c57-b058-900a1b278854",
   "metadata": {},
   "outputs": [],
   "source": [
    "h5ts = tb.open_file('data/data.h5ts', 'w')\n",
    "ts = h5ts.create_ts('/', 'data', desc)"
   ]
  },
  {
   "cell_type": "code",
   "execution_count": 129,
   "id": "241e27e5-4a82-4db3-8eb6-7593f7c352c6",
   "metadata": {},
   "outputs": [
    {
     "data": {
      "text/plain": [
       "File(filename=data/data.h5ts, title='', mode='w', root_uep='/', filters=Filters(complevel=0, shuffle=False, bitshuffle=False, fletcher32=False, least_significant_digit=None))\n",
       "/ (RootGroup) ''\n",
       "/data (Group/Timeseries) ''\n",
       "/data/y2023 (Group) ''\n",
       "/data/y2023/m12 (Group) ''\n",
       "/data/y2023/m12/d27 (Group) ''\n",
       "/data/y2023/m12/d27/ts_data (Table(0,)) ''\n",
       "  description := {\n",
       "  \"timestamp\": Int64Col(shape=(), dflt=0, pos=0),\n",
       "  \"N0\": Float64Col(shape=(), dflt=0.0, pos=1),\n",
       "  \"N1\": Float64Col(shape=(), dflt=0.0, pos=2),\n",
       "  \"N2\": Float64Col(shape=(), dflt=0.0, pos=3),\n",
       "  \"N3\": Float64Col(shape=(), dflt=0.0, pos=4),\n",
       "  \"N4\": Float64Col(shape=(), dflt=0.0, pos=5)}\n",
       "  byteorder := 'little'\n",
       "  chunkshape := (1365,)"
      ]
     },
     "execution_count": 129,
     "metadata": {},
     "output_type": "execute_result"
    }
   ],
   "source": [
    "h5ts"
   ]
  },
  {
   "cell_type": "code",
   "execution_count": 130,
   "id": "2f60911d-f2d6-4674-beb3-772611fc6cac",
   "metadata": {},
   "outputs": [
    {
     "name": "stdout",
     "output_type": "stream",
     "text": [
      "Wall time: 443 ms\n"
     ]
    }
   ],
   "source": [
    "%time ts.append(data)"
   ]
  },
  {
   "cell_type": "code",
   "execution_count": 131,
   "id": "71f15f5e-d51a-43a5-88d5-c90463ef00da",
   "metadata": {},
   "outputs": [
    {
     "data": {
      "text/plain": [
       "File(filename=data/data.h5ts, title='', mode='w', root_uep='/', filters=Filters(complevel=0, shuffle=False, bitshuffle=False, fletcher32=False, least_significant_digit=None))\n",
       "/ (RootGroup) ''\n",
       "/data (Group/Timeseries) ''\n",
       "/data/y2023 (Group) ''\n",
       "/data/y2023/m01 (Group) ''\n",
       "/data/y2023/m12 (Group) ''\n",
       "/data/y2023/m12/d27 (Group) ''\n",
       "/data/y2023/m12/d27/ts_data (Table(0,)) ''\n",
       "  description := {\n",
       "  \"timestamp\": Int64Col(shape=(), dflt=0, pos=0),\n",
       "  \"N0\": Float64Col(shape=(), dflt=0.0, pos=1),\n",
       "  \"N1\": Float64Col(shape=(), dflt=0.0, pos=2),\n",
       "  \"N2\": Float64Col(shape=(), dflt=0.0, pos=3),\n",
       "  \"N3\": Float64Col(shape=(), dflt=0.0, pos=4),\n",
       "  \"N4\": Float64Col(shape=(), dflt=0.0, pos=5)}\n",
       "  byteorder := 'little'\n",
       "  chunkshape := (1365,)\n",
       "/data/y2023/m01/d01 (Group) ''\n",
       "/data/y2023/m01/d01/ts_data (Table(86400,)) ''\n",
       "  description := {\n",
       "  \"timestamp\": Int64Col(shape=(), dflt=0, pos=0),\n",
       "  \"N0\": Float64Col(shape=(), dflt=0.0, pos=1),\n",
       "  \"N1\": Float64Col(shape=(), dflt=0.0, pos=2),\n",
       "  \"N2\": Float64Col(shape=(), dflt=0.0, pos=3),\n",
       "  \"N3\": Float64Col(shape=(), dflt=0.0, pos=4),\n",
       "  \"N4\": Float64Col(shape=(), dflt=0.0, pos=5)}\n",
       "  byteorder := 'little'\n",
       "  chunkshape := (1365,)\n",
       "/data/y2023/m01/d02 (Group) ''\n",
       "/data/y2023/m01/d02/ts_data (Table(86400,)) ''\n",
       "  description := {\n",
       "  \"timestamp\": Int64Col(shape=(), dflt=0, pos=0),\n",
       "  \"N0\": Float64Col(shape=(), dflt=0.0, pos=1),\n",
       "  \"N1\": Float64Col(shape=(), dflt=0.0, pos=2),\n",
       "  \"N2\": Float64Col(shape=(), dflt=0.0, pos=3),\n",
       "  \"N3\": Float64Col(shape=(), dflt=0.0, pos=4),\n",
       "  \"N4\": Float64Col(shape=(), dflt=0.0, pos=5)}\n",
       "  byteorder := 'little'\n",
       "  chunkshape := (1365,)\n",
       "/data/y2023/m01/d03 (Group) ''\n",
       "/data/y2023/m01/d03/ts_data (Table(86400,)) ''\n",
       "  description := {\n",
       "  \"timestamp\": Int64Col(shape=(), dflt=0, pos=0),\n",
       "  \"N0\": Float64Col(shape=(), dflt=0.0, pos=1),\n",
       "  \"N1\": Float64Col(shape=(), dflt=0.0, pos=2),\n",
       "  \"N2\": Float64Col(shape=(), dflt=0.0, pos=3),\n",
       "  \"N3\": Float64Col(shape=(), dflt=0.0, pos=4),\n",
       "  \"N4\": Float64Col(shape=(), dflt=0.0, pos=5)}\n",
       "  byteorder := 'little'\n",
       "  chunkshape := (1365,)\n",
       "/data/y2023/m01/d04 (Group) ''\n",
       "/data/y2023/m01/d04/ts_data (Table(86400,)) ''\n",
       "  description := {\n",
       "  \"timestamp\": Int64Col(shape=(), dflt=0, pos=0),\n",
       "  \"N0\": Float64Col(shape=(), dflt=0.0, pos=1),\n",
       "  \"N1\": Float64Col(shape=(), dflt=0.0, pos=2),\n",
       "  \"N2\": Float64Col(shape=(), dflt=0.0, pos=3),\n",
       "  \"N3\": Float64Col(shape=(), dflt=0.0, pos=4),\n",
       "  \"N4\": Float64Col(shape=(), dflt=0.0, pos=5)}\n",
       "  byteorder := 'little'\n",
       "  chunkshape := (1365,)\n",
       "/data/y2023/m01/d05 (Group) ''\n",
       "/data/y2023/m01/d05/ts_data (Table(86400,)) ''\n",
       "  description := {\n",
       "  \"timestamp\": Int64Col(shape=(), dflt=0, pos=0),\n",
       "  \"N0\": Float64Col(shape=(), dflt=0.0, pos=1),\n",
       "  \"N1\": Float64Col(shape=(), dflt=0.0, pos=2),\n",
       "  \"N2\": Float64Col(shape=(), dflt=0.0, pos=3),\n",
       "  \"N3\": Float64Col(shape=(), dflt=0.0, pos=4),\n",
       "  \"N4\": Float64Col(shape=(), dflt=0.0, pos=5)}\n",
       "  byteorder := 'little'\n",
       "  chunkshape := (1365,)\n",
       "/data/y2023/m01/d06 (Group) ''\n",
       "/data/y2023/m01/d06/ts_data (Table(86400,)) ''\n",
       "  description := {\n",
       "  \"timestamp\": Int64Col(shape=(), dflt=0, pos=0),\n",
       "  \"N0\": Float64Col(shape=(), dflt=0.0, pos=1),\n",
       "  \"N1\": Float64Col(shape=(), dflt=0.0, pos=2),\n",
       "  \"N2\": Float64Col(shape=(), dflt=0.0, pos=3),\n",
       "  \"N3\": Float64Col(shape=(), dflt=0.0, pos=4),\n",
       "  \"N4\": Float64Col(shape=(), dflt=0.0, pos=5)}\n",
       "  byteorder := 'little'\n",
       "  chunkshape := (1365,)\n",
       "/data/y2023/m01/d07 (Group) ''\n",
       "/data/y2023/m01/d07/ts_data (Table(86400,)) ''\n",
       "  description := {\n",
       "  \"timestamp\": Int64Col(shape=(), dflt=0, pos=0),\n",
       "  \"N0\": Float64Col(shape=(), dflt=0.0, pos=1),\n",
       "  \"N1\": Float64Col(shape=(), dflt=0.0, pos=2),\n",
       "  \"N2\": Float64Col(shape=(), dflt=0.0, pos=3),\n",
       "  \"N3\": Float64Col(shape=(), dflt=0.0, pos=4),\n",
       "  \"N4\": Float64Col(shape=(), dflt=0.0, pos=5)}\n",
       "  byteorder := 'little'\n",
       "  chunkshape := (1365,)\n",
       "/data/y2023/m01/d08 (Group) ''\n",
       "/data/y2023/m01/d08/ts_data (Table(86400,)) ''\n",
       "  description := {\n",
       "  \"timestamp\": Int64Col(shape=(), dflt=0, pos=0),\n",
       "  \"N0\": Float64Col(shape=(), dflt=0.0, pos=1),\n",
       "  \"N1\": Float64Col(shape=(), dflt=0.0, pos=2),\n",
       "  \"N2\": Float64Col(shape=(), dflt=0.0, pos=3),\n",
       "  \"N3\": Float64Col(shape=(), dflt=0.0, pos=4),\n",
       "  \"N4\": Float64Col(shape=(), dflt=0.0, pos=5)}\n",
       "  byteorder := 'little'\n",
       "  chunkshape := (1365,)\n",
       "/data/y2023/m01/d09 (Group) ''\n",
       "/data/y2023/m01/d09/ts_data (Table(86400,)) ''\n",
       "  description := {\n",
       "  \"timestamp\": Int64Col(shape=(), dflt=0, pos=0),\n",
       "  \"N0\": Float64Col(shape=(), dflt=0.0, pos=1),\n",
       "  \"N1\": Float64Col(shape=(), dflt=0.0, pos=2),\n",
       "  \"N2\": Float64Col(shape=(), dflt=0.0, pos=3),\n",
       "  \"N3\": Float64Col(shape=(), dflt=0.0, pos=4),\n",
       "  \"N4\": Float64Col(shape=(), dflt=0.0, pos=5)}\n",
       "  byteorder := 'little'\n",
       "  chunkshape := (1365,)\n",
       "/data/y2023/m01/d10 (Group) ''\n",
       "/data/y2023/m01/d10/ts_data (Table(86400,)) ''\n",
       "  description := {\n",
       "  \"timestamp\": Int64Col(shape=(), dflt=0, pos=0),\n",
       "  \"N0\": Float64Col(shape=(), dflt=0.0, pos=1),\n",
       "  \"N1\": Float64Col(shape=(), dflt=0.0, pos=2),\n",
       "  \"N2\": Float64Col(shape=(), dflt=0.0, pos=3),\n",
       "  \"N3\": Float64Col(shape=(), dflt=0.0, pos=4),\n",
       "  \"N4\": Float64Col(shape=(), dflt=0.0, pos=5)}\n",
       "  byteorder := 'little'\n",
       "  chunkshape := (1365,)\n",
       "/data/y2023/m01/d11 (Group) ''\n",
       "/data/y2023/m01/d11/ts_data (Table(86400,)) ''\n",
       "  description := {\n",
       "  \"timestamp\": Int64Col(shape=(), dflt=0, pos=0),\n",
       "  \"N0\": Float64Col(shape=(), dflt=0.0, pos=1),\n",
       "  \"N1\": Float64Col(shape=(), dflt=0.0, pos=2),\n",
       "  \"N2\": Float64Col(shape=(), dflt=0.0, pos=3),\n",
       "  \"N3\": Float64Col(shape=(), dflt=0.0, pos=4),\n",
       "  \"N4\": Float64Col(shape=(), dflt=0.0, pos=5)}\n",
       "  byteorder := 'little'\n",
       "  chunkshape := (1365,)\n",
       "/data/y2023/m01/d12 (Group) ''\n",
       "/data/y2023/m01/d12/ts_data (Table(86400,)) ''\n",
       "  description := {\n",
       "  \"timestamp\": Int64Col(shape=(), dflt=0, pos=0),\n",
       "  \"N0\": Float64Col(shape=(), dflt=0.0, pos=1),\n",
       "  \"N1\": Float64Col(shape=(), dflt=0.0, pos=2),\n",
       "  \"N2\": Float64Col(shape=(), dflt=0.0, pos=3),\n",
       "  \"N3\": Float64Col(shape=(), dflt=0.0, pos=4),\n",
       "  \"N4\": Float64Col(shape=(), dflt=0.0, pos=5)}\n",
       "  byteorder := 'little'\n",
       "  chunkshape := (1365,)\n",
       "/data/y2023/m01/d13 (Group) ''\n",
       "/data/y2023/m01/d13/ts_data (Table(86400,)) ''\n",
       "  description := {\n",
       "  \"timestamp\": Int64Col(shape=(), dflt=0, pos=0),\n",
       "  \"N0\": Float64Col(shape=(), dflt=0.0, pos=1),\n",
       "  \"N1\": Float64Col(shape=(), dflt=0.0, pos=2),\n",
       "  \"N2\": Float64Col(shape=(), dflt=0.0, pos=3),\n",
       "  \"N3\": Float64Col(shape=(), dflt=0.0, pos=4),\n",
       "  \"N4\": Float64Col(shape=(), dflt=0.0, pos=5)}\n",
       "  byteorder := 'little'\n",
       "  chunkshape := (1365,)\n",
       "/data/y2023/m01/d14 (Group) ''\n",
       "/data/y2023/m01/d14/ts_data (Table(86400,)) ''\n",
       "  description := {\n",
       "  \"timestamp\": Int64Col(shape=(), dflt=0, pos=0),\n",
       "  \"N0\": Float64Col(shape=(), dflt=0.0, pos=1),\n",
       "  \"N1\": Float64Col(shape=(), dflt=0.0, pos=2),\n",
       "  \"N2\": Float64Col(shape=(), dflt=0.0, pos=3),\n",
       "  \"N3\": Float64Col(shape=(), dflt=0.0, pos=4),\n",
       "  \"N4\": Float64Col(shape=(), dflt=0.0, pos=5)}\n",
       "  byteorder := 'little'\n",
       "  chunkshape := (1365,)\n",
       "/data/y2023/m01/d15 (Group) ''\n",
       "/data/y2023/m01/d15/ts_data (Table(86400,)) ''\n",
       "  description := {\n",
       "  \"timestamp\": Int64Col(shape=(), dflt=0, pos=0),\n",
       "  \"N0\": Float64Col(shape=(), dflt=0.0, pos=1),\n",
       "  \"N1\": Float64Col(shape=(), dflt=0.0, pos=2),\n",
       "  \"N2\": Float64Col(shape=(), dflt=0.0, pos=3),\n",
       "  \"N3\": Float64Col(shape=(), dflt=0.0, pos=4),\n",
       "  \"N4\": Float64Col(shape=(), dflt=0.0, pos=5)}\n",
       "  byteorder := 'little'\n",
       "  chunkshape := (1365,)\n",
       "/data/y2023/m01/d16 (Group) ''\n",
       "/data/y2023/m01/d16/ts_data (Table(86400,)) ''\n",
       "  description := {\n",
       "  \"timestamp\": Int64Col(shape=(), dflt=0, pos=0),\n",
       "  \"N0\": Float64Col(shape=(), dflt=0.0, pos=1),\n",
       "  \"N1\": Float64Col(shape=(), dflt=0.0, pos=2),\n",
       "  \"N2\": Float64Col(shape=(), dflt=0.0, pos=3),\n",
       "  \"N3\": Float64Col(shape=(), dflt=0.0, pos=4),\n",
       "  \"N4\": Float64Col(shape=(), dflt=0.0, pos=5)}\n",
       "  byteorder := 'little'\n",
       "  chunkshape := (1365,)\n",
       "/data/y2023/m01/d17 (Group) ''\n",
       "/data/y2023/m01/d17/ts_data (Table(86400,)) ''\n",
       "  description := {\n",
       "  \"timestamp\": Int64Col(shape=(), dflt=0, pos=0),\n",
       "  \"N0\": Float64Col(shape=(), dflt=0.0, pos=1),\n",
       "  \"N1\": Float64Col(shape=(), dflt=0.0, pos=2),\n",
       "  \"N2\": Float64Col(shape=(), dflt=0.0, pos=3),\n",
       "  \"N3\": Float64Col(shape=(), dflt=0.0, pos=4),\n",
       "  \"N4\": Float64Col(shape=(), dflt=0.0, pos=5)}\n",
       "  byteorder := 'little'\n",
       "  chunkshape := (1365,)\n",
       "/data/y2023/m01/d18 (Group) ''\n",
       "/data/y2023/m01/d18/ts_data (Table(86400,)) ''\n",
       "  description := {\n",
       "  \"timestamp\": Int64Col(shape=(), dflt=0, pos=0),\n",
       "  \"N0\": Float64Col(shape=(), dflt=0.0, pos=1),\n",
       "  \"N1\": Float64Col(shape=(), dflt=0.0, pos=2),\n",
       "  \"N2\": Float64Col(shape=(), dflt=0.0, pos=3),\n",
       "  \"N3\": Float64Col(shape=(), dflt=0.0, pos=4),\n",
       "  \"N4\": Float64Col(shape=(), dflt=0.0, pos=5)}\n",
       "  byteorder := 'little'\n",
       "  chunkshape := (1365,)\n",
       "/data/y2023/m01/d19 (Group) ''\n",
       "/data/y2023/m01/d19/ts_data (Table(86400,)) ''\n",
       "  description := {\n",
       "  \"timestamp\": Int64Col(shape=(), dflt=0, pos=0),\n",
       "  \"N0\": Float64Col(shape=(), dflt=0.0, pos=1),\n",
       "  \"N1\": Float64Col(shape=(), dflt=0.0, pos=2),\n",
       "  \"N2\": Float64Col(shape=(), dflt=0.0, pos=3),\n",
       "  \"N3\": Float64Col(shape=(), dflt=0.0, pos=4),\n",
       "  \"N4\": Float64Col(shape=(), dflt=0.0, pos=5)}\n",
       "  byteorder := 'little'\n",
       "  chunkshape := (1365,)\n",
       "/data/y2023/m01/d20 (Group) ''\n",
       "/data/y2023/m01/d20/ts_data (Table(86400,)) ''\n",
       "  description := {\n",
       "  \"timestamp\": Int64Col(shape=(), dflt=0, pos=0),\n",
       "  \"N0\": Float64Col(shape=(), dflt=0.0, pos=1),\n",
       "  \"N1\": Float64Col(shape=(), dflt=0.0, pos=2),\n",
       "  \"N2\": Float64Col(shape=(), dflt=0.0, pos=3),\n",
       "  \"N3\": Float64Col(shape=(), dflt=0.0, pos=4),\n",
       "  \"N4\": Float64Col(shape=(), dflt=0.0, pos=5)}\n",
       "  byteorder := 'little'\n",
       "  chunkshape := (1365,)\n",
       "/data/y2023/m01/d21 (Group) ''\n",
       "/data/y2023/m01/d21/ts_data (Table(86400,)) ''\n",
       "  description := {\n",
       "  \"timestamp\": Int64Col(shape=(), dflt=0, pos=0),\n",
       "  \"N0\": Float64Col(shape=(), dflt=0.0, pos=1),\n",
       "  \"N1\": Float64Col(shape=(), dflt=0.0, pos=2),\n",
       "  \"N2\": Float64Col(shape=(), dflt=0.0, pos=3),\n",
       "  \"N3\": Float64Col(shape=(), dflt=0.0, pos=4),\n",
       "  \"N4\": Float64Col(shape=(), dflt=0.0, pos=5)}\n",
       "  byteorder := 'little'\n",
       "  chunkshape := (1365,)\n",
       "/data/y2023/m01/d22 (Group) ''\n",
       "/data/y2023/m01/d22/ts_data (Table(86400,)) ''\n",
       "  description := {\n",
       "  \"timestamp\": Int64Col(shape=(), dflt=0, pos=0),\n",
       "  \"N0\": Float64Col(shape=(), dflt=0.0, pos=1),\n",
       "  \"N1\": Float64Col(shape=(), dflt=0.0, pos=2),\n",
       "  \"N2\": Float64Col(shape=(), dflt=0.0, pos=3),\n",
       "  \"N3\": Float64Col(shape=(), dflt=0.0, pos=4),\n",
       "  \"N4\": Float64Col(shape=(), dflt=0.0, pos=5)}\n",
       "  byteorder := 'little'\n",
       "  chunkshape := (1365,)\n",
       "/data/y2023/m01/d23 (Group) ''\n",
       "/data/y2023/m01/d23/ts_data (Table(86400,)) ''\n",
       "  description := {\n",
       "  \"timestamp\": Int64Col(shape=(), dflt=0, pos=0),\n",
       "  \"N0\": Float64Col(shape=(), dflt=0.0, pos=1),\n",
       "  \"N1\": Float64Col(shape=(), dflt=0.0, pos=2),\n",
       "  \"N2\": Float64Col(shape=(), dflt=0.0, pos=3),\n",
       "  \"N3\": Float64Col(shape=(), dflt=0.0, pos=4),\n",
       "  \"N4\": Float64Col(shape=(), dflt=0.0, pos=5)}\n",
       "  byteorder := 'little'\n",
       "  chunkshape := (1365,)\n",
       "/data/y2023/m01/d24 (Group) ''\n",
       "/data/y2023/m01/d24/ts_data (Table(86400,)) ''\n",
       "  description := {\n",
       "  \"timestamp\": Int64Col(shape=(), dflt=0, pos=0),\n",
       "  \"N0\": Float64Col(shape=(), dflt=0.0, pos=1),\n",
       "  \"N1\": Float64Col(shape=(), dflt=0.0, pos=2),\n",
       "  \"N2\": Float64Col(shape=(), dflt=0.0, pos=3),\n",
       "  \"N3\": Float64Col(shape=(), dflt=0.0, pos=4),\n",
       "  \"N4\": Float64Col(shape=(), dflt=0.0, pos=5)}\n",
       "  byteorder := 'little'\n",
       "  chunkshape := (1365,)\n",
       "/data/y2023/m01/d25 (Group) ''\n",
       "/data/y2023/m01/d25/ts_data (Table(86400,)) ''\n",
       "  description := {\n",
       "  \"timestamp\": Int64Col(shape=(), dflt=0, pos=0),\n",
       "  \"N0\": Float64Col(shape=(), dflt=0.0, pos=1),\n",
       "  \"N1\": Float64Col(shape=(), dflt=0.0, pos=2),\n",
       "  \"N2\": Float64Col(shape=(), dflt=0.0, pos=3),\n",
       "  \"N3\": Float64Col(shape=(), dflt=0.0, pos=4),\n",
       "  \"N4\": Float64Col(shape=(), dflt=0.0, pos=5)}\n",
       "  byteorder := 'little'\n",
       "  chunkshape := (1365,)\n",
       "/data/y2023/m01/d26 (Group) ''\n",
       "/data/y2023/m01/d26/ts_data (Table(86400,)) ''\n",
       "  description := {\n",
       "  \"timestamp\": Int64Col(shape=(), dflt=0, pos=0),\n",
       "  \"N0\": Float64Col(shape=(), dflt=0.0, pos=1),\n",
       "  \"N1\": Float64Col(shape=(), dflt=0.0, pos=2),\n",
       "  \"N2\": Float64Col(shape=(), dflt=0.0, pos=3),\n",
       "  \"N3\": Float64Col(shape=(), dflt=0.0, pos=4),\n",
       "  \"N4\": Float64Col(shape=(), dflt=0.0, pos=5)}\n",
       "  byteorder := 'little'\n",
       "  chunkshape := (1365,)\n",
       "/data/y2023/m01/d27 (Group) ''\n",
       "/data/y2023/m01/d27/ts_data (Table(86400,)) ''\n",
       "  description := {\n",
       "  \"timestamp\": Int64Col(shape=(), dflt=0, pos=0),\n",
       "  \"N0\": Float64Col(shape=(), dflt=0.0, pos=1),\n",
       "  \"N1\": Float64Col(shape=(), dflt=0.0, pos=2),\n",
       "  \"N2\": Float64Col(shape=(), dflt=0.0, pos=3),\n",
       "  \"N3\": Float64Col(shape=(), dflt=0.0, pos=4),\n",
       "  \"N4\": Float64Col(shape=(), dflt=0.0, pos=5)}\n",
       "  byteorder := 'little'\n",
       "  chunkshape := (1365,)\n",
       "/data/y2023/m01/d28 (Group) ''\n",
       "/data/y2023/m01/d28/ts_data (Table(86400,)) ''\n",
       "  description := {\n",
       "  \"timestamp\": Int64Col(shape=(), dflt=0, pos=0),\n",
       "  \"N0\": Float64Col(shape=(), dflt=0.0, pos=1),\n",
       "  \"N1\": Float64Col(shape=(), dflt=0.0, pos=2),\n",
       "  \"N2\": Float64Col(shape=(), dflt=0.0, pos=3),\n",
       "  \"N3\": Float64Col(shape=(), dflt=0.0, pos=4),\n",
       "  \"N4\": Float64Col(shape=(), dflt=0.0, pos=5)}\n",
       "  byteorder := 'little'\n",
       "  chunkshape := (1365,)\n",
       "/data/y2023/m01/d29 (Group) ''\n",
       "/data/y2023/m01/d29/ts_data (Table(80800,)) ''\n",
       "  description := {\n",
       "  \"timestamp\": Int64Col(shape=(), dflt=0, pos=0),\n",
       "  \"N0\": Float64Col(shape=(), dflt=0.0, pos=1),\n",
       "  \"N1\": Float64Col(shape=(), dflt=0.0, pos=2),\n",
       "  \"N2\": Float64Col(shape=(), dflt=0.0, pos=3),\n",
       "  \"N3\": Float64Col(shape=(), dflt=0.0, pos=4),\n",
       "  \"N4\": Float64Col(shape=(), dflt=0.0, pos=5)}\n",
       "  byteorder := 'little'\n",
       "  chunkshape := (1365,)"
      ]
     },
     "execution_count": 131,
     "metadata": {},
     "output_type": "execute_result"
    }
   ],
   "source": [
    "h5ts"
   ]
  },
  {
   "cell_type": "markdown",
   "id": "1da10335-a015-4a9c-a4b8-951f5a84bc5c",
   "metadata": {},
   "source": [
    "### Read .h5ts into DataFrame"
   ]
  },
  {
   "cell_type": "code",
   "execution_count": 132,
   "id": "b37916f2-f9a4-425a-a06e-46adf5bea4b6",
   "metadata": {},
   "outputs": [],
   "source": [
    "import datetime\n",
    "start = datetime.datetime(2023, 1, 2)\n",
    "end = datetime.datetime(2023, 1, 3)"
   ]
  },
  {
   "cell_type": "code",
   "execution_count": 133,
   "id": "3915516a-c2a4-48b0-bc97-c469017a7a10",
   "metadata": {},
   "outputs": [
    {
     "name": "stdout",
     "output_type": "stream",
     "text": [
      "Wall time: 32.1 ms\n"
     ]
    }
   ],
   "source": [
    "%time subset = ts.read_range(start, end)"
   ]
  },
  {
   "cell_type": "code",
   "execution_count": 134,
   "id": "fffcb94a-b452-4e9a-a460-da27bd019a19",
   "metadata": {},
   "outputs": [
    {
     "name": "stdout",
     "output_type": "stream",
     "text": [
      "Wall time: 57.4 ms\n"
     ]
    }
   ],
   "source": [
    "start = datetime.datetime(2023, 1, 2, 12, 30, 0)\n",
    "end = datetime.datetime(2023, 1, 5, 17, 15, 30)\n",
    "%time subset2 = ts.read_range(start, end)"
   ]
  },
  {
   "cell_type": "code",
   "execution_count": 135,
   "id": "e1e1390c-489f-4ac6-b3b0-dbfab3504167",
   "metadata": {},
   "outputs": [
    {
     "name": "stdout",
     "output_type": "stream",
     "text": [
      "<class 'pandas.core.frame.DataFrame'>\n",
      "DatetimeIndex: 276331 entries, 2023-01-02 12:30:00 to 2023-01-05 17:15:30\n",
      "Data columns (total 5 columns):\n",
      " #   Column  Non-Null Count   Dtype  \n",
      "---  ------  --------------   -----  \n",
      " 0   N0      276331 non-null  float64\n",
      " 1   N1      276331 non-null  float64\n",
      " 2   N2      276331 non-null  float64\n",
      " 3   N3      276331 non-null  float64\n",
      " 4   N4      276331 non-null  float64\n",
      "dtypes: float64(5)\n",
      "memory usage: 12.6 MB\n"
     ]
    }
   ],
   "source": [
    "subset2.info()"
   ]
  },
  {
   "cell_type": "code",
   "execution_count": 136,
   "id": "974af000-16d2-4838-9567-d9211e16359b",
   "metadata": {},
   "outputs": [],
   "source": [
    "h5ts.close()"
   ]
  },
  {
   "cell_type": "code",
   "execution_count": 137,
   "id": "d1e408a4-c814-4604-864b-98ca1cc26f32",
   "metadata": {},
   "outputs": [],
   "source": [
    "# In conda prompt, run \"del data\\data.h5ts\" to remove file"
   ]
  },
  {
   "cell_type": "markdown",
   "id": "33fd4710-a538-4b2d-b05a-cfb0af476666",
   "metadata": {},
   "source": [
    "## Storing Data with SQLite3"
   ]
  },
  {
   "cell_type": "markdown",
   "id": "1c803706-919c-421a-8f1f-816852968913",
   "metadata": {},
   "source": [
    "#### Note: SQLite3 is a relational database, where the SQL query language can be applied to implement more sophisticated analyses. But it is slower than the binary storage format like HDF5. "
   ]
  },
  {
   "cell_type": "code",
   "execution_count": 138,
   "id": "7664e886-7b76-42e0-b780-cc02ca87da3f",
   "metadata": {},
   "outputs": [
    {
     "name": "stdout",
     "output_type": "stream",
     "text": [
      "Wall time: 486 ms\n"
     ]
    }
   ],
   "source": [
    "%time data = generate_sample_data(1e6, 5, '1min').round(4)"
   ]
  },
  {
   "cell_type": "code",
   "execution_count": 139,
   "id": "b04a54f7-f815-48f3-8743-1cdded40885e",
   "metadata": {},
   "outputs": [
    {
     "name": "stdout",
     "output_type": "stream",
     "text": [
      "<class 'pandas.core.frame.DataFrame'>\n",
      "DatetimeIndex: 1000000 entries, 2023-01-01 00:00:00 to 2024-11-25 10:39:00\n",
      "Freq: T\n",
      "Data columns (total 5 columns):\n",
      " #   Column  Non-Null Count    Dtype  \n",
      "---  ------  --------------    -----  \n",
      " 0   No0     1000000 non-null  float64\n",
      " 1   No1     1000000 non-null  float64\n",
      " 2   No2     1000000 non-null  float64\n",
      " 3   No3     1000000 non-null  float64\n",
      " 4   No4     1000000 non-null  float64\n",
      "dtypes: float64(5)\n",
      "memory usage: 45.8 MB\n"
     ]
    }
   ],
   "source": [
    "data.info()"
   ]
  },
  {
   "cell_type": "code",
   "execution_count": 140,
   "id": "8cccb8fa-4961-468a-8ef1-17f4e7d77310",
   "metadata": {},
   "outputs": [],
   "source": [
    "import sqlite3 as sq3\n",
    "con = sq3.connect('data/data.sql')"
   ]
  },
  {
   "cell_type": "code",
   "execution_count": 141,
   "id": "61587980-704f-4aea-84c2-a18347e52354",
   "metadata": {},
   "outputs": [
    {
     "name": "stdout",
     "output_type": "stream",
     "text": [
      "Wall time: 5.36 s\n"
     ]
    },
    {
     "data": {
      "text/plain": [
       "1000000"
      ]
     },
     "execution_count": 141,
     "metadata": {},
     "output_type": "execute_result"
    }
   ],
   "source": [
    "%time data.to_sql('data', con)"
   ]
  },
  {
   "cell_type": "code",
   "execution_count": 142,
   "id": "4aece64d-8119-4fa5-9905-ba660ac77116",
   "metadata": {},
   "outputs": [],
   "source": [
    "query = 'SELECT * FROM data WHERE No1 > 105 and No2 < 108'"
   ]
  },
  {
   "cell_type": "code",
   "execution_count": 143,
   "id": "867659ff-dc7c-42ef-821a-759c62409cc1",
   "metadata": {},
   "outputs": [
    {
     "name": "stdout",
     "output_type": "stream",
     "text": [
      "Wall time: 1.76 s\n"
     ]
    }
   ],
   "source": [
    "%time res = con.execute(query).fetchall()"
   ]
  },
  {
   "cell_type": "code",
   "execution_count": 144,
   "id": "e4f12c5f-c835-4ece-bab5-598524cfae4d",
   "metadata": {},
   "outputs": [
    {
     "data": {
      "text/plain": [
       "[('2024-11-25 10:20:00', 39.1159, 144.3006, 28.4391, 163.0812, 84.3871),\n",
       " ('2024-11-25 10:21:00', 39.1052, 144.3274, 28.4243, 163.0772, 84.447),\n",
       " ('2024-11-25 10:22:00', 39.1296, 144.3108, 28.4422, 163.0047, 84.3761),\n",
       " ('2024-11-25 10:23:00', 39.0868, 144.3319, 28.4531, 162.9157, 84.355),\n",
       " ('2024-11-25 10:24:00', 39.0826, 144.5099, 28.4673, 162.9825, 84.2849),\n",
       " ('2024-11-25 10:25:00', 39.0865, 144.6434, 28.4559, 162.9365, 84.2503),\n",
       " ('2024-11-25 10:26:00', 39.0423, 144.4878, 28.4772, 163.0169, 84.229),\n",
       " ('2024-11-25 10:27:00', 39.0051, 144.6625, 28.499, 162.9223, 84.2602),\n",
       " ('2024-11-25 10:28:00', 39.0088, 144.67, 28.5323, 162.8128, 84.2443),\n",
       " ('2024-11-25 10:29:00', 39.0461, 144.6678, 28.5391, 162.6645, 84.1988),\n",
       " ('2024-11-25 10:30:00', 39.1107, 144.5276, 28.5197, 162.6903, 84.2264),\n",
       " ('2024-11-25 10:31:00', 39.0876, 144.655, 28.538, 162.5758, 84.3),\n",
       " ('2024-11-25 10:32:00', 39.095, 144.6257, 28.497, 162.5737, 84.2481),\n",
       " ('2024-11-25 10:33:00', 39.1498, 144.6761, 28.4742, 162.7299, 84.2273),\n",
       " ('2024-11-25 10:34:00', 39.1365, 144.5499, 28.5026, 162.9619, 84.2262),\n",
       " ('2024-11-25 10:35:00', 39.1341, 144.6289, 28.5065, 162.9208, 84.3109),\n",
       " ('2024-11-25 10:36:00', 39.1468, 144.603, 28.5032, 163.0681, 84.3529),\n",
       " ('2024-11-25 10:37:00', 39.1126, 144.7131, 28.5197, 163.0578, 84.2598),\n",
       " ('2024-11-25 10:38:00', 39.0899, 144.6101, 28.5302, 163.0299, 84.2515),\n",
       " ('2024-11-25 10:39:00', 39.1181, 144.5604, 28.5407, 162.9766, 84.2998)]"
      ]
     },
     "execution_count": 144,
     "metadata": {},
     "output_type": "execute_result"
    }
   ],
   "source": [
    "res[-20:]"
   ]
  },
  {
   "cell_type": "code",
   "execution_count": 145,
   "id": "39564c49-a175-4b75-93fb-cd27db0ea89b",
   "metadata": {},
   "outputs": [],
   "source": [
    "con.close()"
   ]
  },
  {
   "cell_type": "code",
   "execution_count": 146,
   "id": "f5e9587e-22eb-49f6-b2fb-88a0a64e7bc4",
   "metadata": {},
   "outputs": [],
   "source": [
    "# In conda prompt, run \"del data\\data.sql\" to remove file"
   ]
  },
  {
   "cell_type": "markdown",
   "id": "0c7c6c9c-ae3a-4869-9261-91299c249ab0",
   "metadata": {},
   "source": [
    "### See also: SQLAlchemy, which allows for the use of MySQL as the relational database backend."
   ]
  },
  {
   "cell_type": "code",
   "execution_count": null,
   "id": "c567642e-2448-4857-b35a-c5f52ce3f573",
   "metadata": {},
   "outputs": [],
   "source": []
  }
 ],
 "metadata": {
  "kernelspec": {
   "display_name": "Python 3 (ipykernel)",
   "language": "python",
   "name": "python3"
  },
  "language_info": {
   "codemirror_mode": {
    "name": "ipython",
    "version": 3
   },
   "file_extension": ".py",
   "mimetype": "text/x-python",
   "name": "python",
   "nbconvert_exporter": "python",
   "pygments_lexer": "ipython3",
   "version": "3.9.18"
  }
 },
 "nbformat": 4,
 "nbformat_minor": 5
}
