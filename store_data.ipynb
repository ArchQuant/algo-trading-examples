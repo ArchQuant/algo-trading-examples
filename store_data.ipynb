{
 "cells": [
  {
   "cell_type": "markdown",
   "id": "0f4e65c8-4b4f-48a1-92fb-ef792c7473a3",
   "metadata": {},
   "source": [
    "# Storing Financial Data Efficiently"
   ]
  },
  {
   "cell_type": "code",
   "execution_count": 55,
   "id": "96dbe60e-459c-4a8f-908d-8a3f50496c7d",
   "metadata": {},
   "outputs": [],
   "source": [
    "import pandas as pd\n",
    "from helpers.sample_generate import generate_sample_data"
   ]
  },
  {
   "cell_type": "code",
   "execution_count": 56,
   "id": "cb2ad0ef-e8fb-4e0e-80cf-260efd23cd6e",
   "metadata": {},
   "outputs": [
    {
     "name": "stdout",
     "output_type": "stream",
     "text": [
      "                            No0         No1         No2         No3\n",
      "2023-01-01 00:00:00  100.000000  100.000000  100.000000  100.000000\n",
      "2023-01-01 00:01:00   99.928362  100.063330  100.104386   99.975458\n",
      "2023-01-01 00:02:00   99.938943  100.026508  100.132050  100.048829\n",
      "2023-01-01 00:03:00   99.826146   99.971623  100.166635  100.050730\n",
      "2023-01-01 00:04:00   99.778683  100.009084  100.186006  100.060818\n"
     ]
    }
   ],
   "source": [
    "print(generate_sample_data(rows=5, cols=4, freq='1min'))"
   ]
  },
  {
   "cell_type": "markdown",
   "id": "c7203e0b-7c63-4e13-84d2-fa4d8941fcad",
   "metadata": {},
   "source": [
    "## HDFStore"
   ]
  },
  {
   "cell_type": "markdown",
   "id": "5beb0e1b-b685-4c6f-a9d8-da6007e85f57",
   "metadata": {},
   "source": [
    "### .h5 for immutable data"
   ]
  },
  {
   "cell_type": "code",
   "execution_count": 57,
   "id": "b233b003-9428-442b-97ad-d04c1a086023",
   "metadata": {},
   "outputs": [
    {
     "name": "stdout",
     "output_type": "stream",
     "text": [
      "Wall time: 12.2 ms\n"
     ]
    }
   ],
   "source": [
    "%time data = generate_sample_data(rows=1e3, cols=10, freq='D').round(4)"
   ]
  },
  {
   "cell_type": "code",
   "execution_count": 58,
   "id": "83589529-07ef-4381-b06d-c301da29e497",
   "metadata": {},
   "outputs": [
    {
     "name": "stdout",
     "output_type": "stream",
     "text": [
      "<class 'pandas.core.frame.DataFrame'>\n",
      "DatetimeIndex: 1000 entries, 2023-01-01 to 2025-09-26\n",
      "Freq: D\n",
      "Data columns (total 10 columns):\n",
      " #   Column  Non-Null Count  Dtype  \n",
      "---  ------  --------------  -----  \n",
      " 0   No0     1000 non-null   float64\n",
      " 1   No1     1000 non-null   float64\n",
      " 2   No2     1000 non-null   float64\n",
      " 3   No3     1000 non-null   float64\n",
      " 4   No4     1000 non-null   float64\n",
      " 5   No5     1000 non-null   float64\n",
      " 6   No6     1000 non-null   float64\n",
      " 7   No7     1000 non-null   float64\n",
      " 8   No8     1000 non-null   float64\n",
      " 9   No9     1000 non-null   float64\n",
      "dtypes: float64(10)\n",
      "memory usage: 85.9 KB\n"
     ]
    }
   ],
   "source": [
    "data.info()"
   ]
  },
  {
   "cell_type": "markdown",
   "id": "5352b65c-ea44-48a4-a006-1a1937be1d18",
   "metadata": {},
   "source": [
    "### HDFStore write to .h5"
   ]
  },
  {
   "cell_type": "code",
   "execution_count": 59,
   "id": "8efb0e1f-c4cb-4810-b49b-8296be0bcd48",
   "metadata": {},
   "outputs": [],
   "source": [
    "h5 = pd.HDFStore('data/data.h5', 'w')"
   ]
  },
  {
   "cell_type": "code",
   "execution_count": 60,
   "id": "1c631b6c-340a-42d4-bfee-9117c9974ad7",
   "metadata": {},
   "outputs": [
    {
     "name": "stdout",
     "output_type": "stream",
     "text": [
      "Wall time: 5.03 ms\n"
     ]
    }
   ],
   "source": [
    "%time h5['data'] = data"
   ]
  },
  {
   "cell_type": "code",
   "execution_count": 61,
   "id": "6ae0764b-ebcd-4172-bf33-cf8a443aaa43",
   "metadata": {},
   "outputs": [
    {
     "data": {
      "text/plain": [
       "<class 'pandas.io.pytables.HDFStore'>\n",
       "File path: data/data.h5"
      ]
     },
     "execution_count": 61,
     "metadata": {},
     "output_type": "execute_result"
    }
   ],
   "source": [
    "h5"
   ]
  },
  {
   "cell_type": "code",
   "execution_count": 62,
   "id": "e703771e-bad1-437e-a05d-fb340a1b9af0",
   "metadata": {},
   "outputs": [],
   "source": [
    "h5.close()"
   ]
  },
  {
   "cell_type": "code",
   "execution_count": 63,
   "id": "b9e22dff-cc16-4f89-b2a8-933b3fdae555",
   "metadata": {},
   "outputs": [
    {
     "name": "stdout",
     "output_type": "stream",
     "text": [
      " Volume in drive C is OS\n",
      " Volume Serial Number is 8A40-DA6B\n",
      "\n",
      " Directory of C:\\Users\\Michael\\source\\algo-trading-examples\n",
      "\n",
      "\n",
      " Directory of C:\\Users\\Michael\\source\\algo-trading-examples\\data\n",
      "\n",
      "2023/12/25  18:27    <DIR>          .\n",
      "2023/12/25  18:27    <DIR>          ..\n",
      "2023/12/25  18:19           176,760 aapl.json\n",
      "2023/12/25  18:19           129,024 aapl.xls\n",
      "2023/12/25  18:19            58,639 aapl.xlsx\n",
      "2023/12/13  22:41        29,580,549 all_stocks_5yr.csv\n",
      "2023/12/25  18:27            95,240 data.h5\n",
      "2023/12/25  18:18           152,878 data2.h5\n",
      "               6 File(s)     30,193,090 bytes\n",
      "               2 Dir(s)  62,634,717,184 bytes free\n"
     ]
    },
    {
     "name": "stderr",
     "output_type": "stream",
     "text": [
      "File Not Found\n"
     ]
    }
   ],
   "source": [
    "ls -n data"
   ]
  },
  {
   "cell_type": "markdown",
   "id": "3bacf95f-04a9-4de3-a7e3-0d37e0bac8a9",
   "metadata": {},
   "source": [
    "### HDFStore read from .h5"
   ]
  },
  {
   "cell_type": "code",
   "execution_count": 64,
   "id": "fde6f06f-4cf8-4721-ac82-f357a397e912",
   "metadata": {},
   "outputs": [
    {
     "name": "stdout",
     "output_type": "stream",
     "text": [
      "Wall time: 4.99 ms\n"
     ]
    }
   ],
   "source": [
    "h5 = pd.HDFStore('data/data.h5', 'r')\n",
    "%time data_copy = h5['data']"
   ]
  },
  {
   "cell_type": "code",
   "execution_count": 65,
   "id": "17039ef3-8505-4a61-8788-8081c9ea693d",
   "metadata": {},
   "outputs": [
    {
     "name": "stdout",
     "output_type": "stream",
     "text": [
      "<class 'pandas.core.frame.DataFrame'>\n",
      "DatetimeIndex: 1000 entries, 2023-01-01 to 2025-09-26\n",
      "Freq: D\n",
      "Data columns (total 10 columns):\n",
      " #   Column  Non-Null Count  Dtype  \n",
      "---  ------  --------------  -----  \n",
      " 0   No0     1000 non-null   float64\n",
      " 1   No1     1000 non-null   float64\n",
      " 2   No2     1000 non-null   float64\n",
      " 3   No3     1000 non-null   float64\n",
      " 4   No4     1000 non-null   float64\n",
      " 5   No5     1000 non-null   float64\n",
      " 6   No6     1000 non-null   float64\n",
      " 7   No7     1000 non-null   float64\n",
      " 8   No8     1000 non-null   float64\n",
      " 9   No9     1000 non-null   float64\n",
      "dtypes: float64(10)\n",
      "memory usage: 85.9 KB\n"
     ]
    }
   ],
   "source": [
    "data_copy.info()"
   ]
  },
  {
   "cell_type": "code",
   "execution_count": 66,
   "id": "31d2fc24-58a6-448a-9452-6c4f8d094e77",
   "metadata": {},
   "outputs": [],
   "source": [
    "h5.close()"
   ]
  },
  {
   "cell_type": "markdown",
   "id": "30308b4c-2176-4ef9-9a15-3e3212ddbccc",
   "metadata": {},
   "source": [
    "### Pandas write to .h5 with to_hdf()"
   ]
  },
  {
   "cell_type": "code",
   "execution_count": 67,
   "id": "635a1560-694f-4993-b2ac-b93b9872ce19",
   "metadata": {},
   "outputs": [],
   "source": [
    "data.to_hdf('data/data2.h5', 'data', format='table')"
   ]
  },
  {
   "cell_type": "code",
   "execution_count": 68,
   "id": "19531acd-a0f3-4520-8d24-feaedfca4e98",
   "metadata": {},
   "outputs": [],
   "source": [
    "data_copy2 = pd.read_hdf('data/data2.h5', 'data')"
   ]
  },
  {
   "cell_type": "code",
   "execution_count": 69,
   "id": "f740baa6-cfca-49cd-a6f1-fc5526360830",
   "metadata": {},
   "outputs": [
    {
     "name": "stdout",
     "output_type": "stream",
     "text": [
      "<class 'pandas.core.frame.DataFrame'>\n",
      "DatetimeIndex: 1000 entries, 2023-01-01 to 2025-09-26\n",
      "Freq: D\n",
      "Data columns (total 10 columns):\n",
      " #   Column  Non-Null Count  Dtype  \n",
      "---  ------  --------------  -----  \n",
      " 0   No0     1000 non-null   float64\n",
      " 1   No1     1000 non-null   float64\n",
      " 2   No2     1000 non-null   float64\n",
      " 3   No3     1000 non-null   float64\n",
      " 4   No4     1000 non-null   float64\n",
      " 5   No5     1000 non-null   float64\n",
      " 6   No6     1000 non-null   float64\n",
      " 7   No7     1000 non-null   float64\n",
      " 8   No8     1000 non-null   float64\n",
      " 9   No9     1000 non-null   float64\n",
      "dtypes: float64(10)\n",
      "memory usage: 85.9 KB\n"
     ]
    }
   ],
   "source": [
    "data_copy2.info()"
   ]
  },
  {
   "cell_type": "markdown",
   "id": "80bd84cb-0584-4e41-aae5-ec21a57a9c65",
   "metadata": {},
   "source": [
    "### Reading .h5 using PyTables (tables)"
   ]
  },
  {
   "cell_type": "code",
   "execution_count": 70,
   "id": "fb88b159-73cc-4f91-93fe-9019a481596e",
   "metadata": {},
   "outputs": [],
   "source": [
    "import tables as tb"
   ]
  },
  {
   "cell_type": "code",
   "execution_count": 71,
   "id": "408e5bff-bfa9-47ef-95f1-504731aafc3b",
   "metadata": {},
   "outputs": [],
   "source": [
    "h5 = tb.open_file('data/data.h5.', 'r')"
   ]
  },
  {
   "cell_type": "code",
   "execution_count": 72,
   "id": "f8915694-36a5-4d72-8299-3701b837ef45",
   "metadata": {},
   "outputs": [
    {
     "data": {
      "text/plain": [
       "File(filename=data/data.h5., title='', mode='r', root_uep='/', filters=Filters(complevel=0, shuffle=False, bitshuffle=False, fletcher32=False, least_significant_digit=None))\n",
       "/ (RootGroup) ''\n",
       "/data (Group) ''\n",
       "/data/axis0 (Array(10,)) ''\n",
       "  atom := StringAtom(itemsize=3, shape=(), dflt=b'')\n",
       "  maindim := 0\n",
       "  flavor := 'numpy'\n",
       "  byteorder := 'irrelevant'\n",
       "  chunkshape := None\n",
       "/data/axis1 (Array(1000,)) ''\n",
       "  atom := Int64Atom(shape=(), dflt=0)\n",
       "  maindim := 0\n",
       "  flavor := 'numpy'\n",
       "  byteorder := 'little'\n",
       "  chunkshape := None\n",
       "/data/block0_items (Array(10,)) ''\n",
       "  atom := StringAtom(itemsize=3, shape=(), dflt=b'')\n",
       "  maindim := 0\n",
       "  flavor := 'numpy'\n",
       "  byteorder := 'irrelevant'\n",
       "  chunkshape := None\n",
       "/data/block0_values (Array(1000, 10)) ''\n",
       "  atom := Float64Atom(shape=(), dflt=0.0)\n",
       "  maindim := 0\n",
       "  flavor := 'numpy'\n",
       "  byteorder := 'little'\n",
       "  chunkshape := None"
      ]
     },
     "execution_count": 72,
     "metadata": {},
     "output_type": "execute_result"
    }
   ],
   "source": [
    "h5"
   ]
  },
  {
   "cell_type": "code",
   "execution_count": 73,
   "id": "cc221a1e-6957-444b-9407-bdef6a44120c",
   "metadata": {},
   "outputs": [],
   "source": [
    "h5.close()"
   ]
  },
  {
   "cell_type": "markdown",
   "id": "6f9a6642-ef8b-4208-ac2c-fd34e1aae508",
   "metadata": {},
   "source": [
    "## TsTables .h5ts for mutable and time series data"
   ]
  },
  {
   "cell_type": "code",
   "execution_count": 74,
   "id": "468cdb1e-5689-4fb4-9606-f5fa6be4ee94",
   "metadata": {},
   "outputs": [
    {
     "name": "stdout",
     "output_type": "stream",
     "text": [
      "Wall time: 1.23 s\n"
     ]
    }
   ],
   "source": [
    "%%time\n",
    "data = generate_sample_data(rows=2.5e6, cols=5,\n",
    "                            freq='1s').round(4)"
   ]
  },
  {
   "cell_type": "code",
   "execution_count": 75,
   "id": "31b8d402-94ba-41b1-a68a-ed54e7838129",
   "metadata": {},
   "outputs": [
    {
     "name": "stdout",
     "output_type": "stream",
     "text": [
      "<class 'pandas.core.frame.DataFrame'>\n",
      "DatetimeIndex: 2500000 entries, 2023-01-01 00:00:00 to 2023-01-29 22:26:39\n",
      "Freq: S\n",
      "Data columns (total 5 columns):\n",
      " #   Column  Dtype  \n",
      "---  ------  -----  \n",
      " 0   No0     float64\n",
      " 1   No1     float64\n",
      " 2   No2     float64\n",
      " 3   No3     float64\n",
      " 4   No4     float64\n",
      "dtypes: float64(5)\n",
      "memory usage: 114.4 MB\n"
     ]
    }
   ],
   "source": [
    "data.info()"
   ]
  },
  {
   "cell_type": "code",
   "execution_count": 76,
   "id": "bce543f2-0bff-41f3-b697-54ca1158afd6",
   "metadata": {},
   "outputs": [],
   "source": [
    "# pip install git+https://github.com/yhilpisch/tstables.git\n",
    "import tstables\n",
    "import tables as tb"
   ]
  },
  {
   "cell_type": "code",
   "execution_count": 77,
   "id": "fb24f057-4a6b-484e-a98d-5d33e217feed",
   "metadata": {},
   "outputs": [],
   "source": [
    "class desc(tb.IsDescription):\n",
    "    '''Description of TsTables table structure\n",
    "    '''\n",
    "    timestamp = tb.Int64Col(pos=0)\n",
    "    N0 = tb.Float64Col(pos=1)\n",
    "    N1 = tb.Float64Col(pos=2)\n",
    "    N2 = tb.Float64Col(pos=3)\n",
    "    N3 = tb.Float64Col(pos=4)\n",
    "    N4 = tb.Float64Col(pos=5)"
   ]
  },
  {
   "cell_type": "code",
   "execution_count": 78,
   "id": "6af45871-19e0-4c57-b058-900a1b278854",
   "metadata": {},
   "outputs": [],
   "source": [
    "h5ts = tb.open_file('data/data.h5ts', 'w')\n",
    "ts = h5ts.create_ts('/', 'data', desc)"
   ]
  },
  {
   "cell_type": "code",
   "execution_count": 79,
   "id": "241e27e5-4a82-4db3-8eb6-7593f7c352c6",
   "metadata": {},
   "outputs": [
    {
     "data": {
      "text/plain": [
       "File(filename=data/data.h5ts, title='', mode='w', root_uep='/', filters=Filters(complevel=0, shuffle=False, bitshuffle=False, fletcher32=False, least_significant_digit=None))\n",
       "/ (RootGroup) ''\n",
       "/data (Group/Timeseries) ''\n",
       "/data/y2023 (Group) ''\n",
       "/data/y2023/m12 (Group) ''\n",
       "/data/y2023/m12/d25 (Group) ''\n",
       "/data/y2023/m12/d25/ts_data (Table(0,)) ''\n",
       "  description := {\n",
       "  \"timestamp\": Int64Col(shape=(), dflt=0, pos=0),\n",
       "  \"N0\": Float64Col(shape=(), dflt=0.0, pos=1),\n",
       "  \"N1\": Float64Col(shape=(), dflt=0.0, pos=2),\n",
       "  \"N2\": Float64Col(shape=(), dflt=0.0, pos=3),\n",
       "  \"N3\": Float64Col(shape=(), dflt=0.0, pos=4),\n",
       "  \"N4\": Float64Col(shape=(), dflt=0.0, pos=5)}\n",
       "  byteorder := 'little'\n",
       "  chunkshape := (1365,)"
      ]
     },
     "execution_count": 79,
     "metadata": {},
     "output_type": "execute_result"
    }
   ],
   "source": [
    "h5ts"
   ]
  },
  {
   "cell_type": "code",
   "execution_count": 80,
   "id": "2f60911d-f2d6-4674-beb3-772611fc6cac",
   "metadata": {},
   "outputs": [
    {
     "name": "stdout",
     "output_type": "stream",
     "text": [
      "Wall time: 433 ms\n"
     ]
    }
   ],
   "source": [
    "%time ts.append(data)"
   ]
  },
  {
   "cell_type": "code",
   "execution_count": 81,
   "id": "71f15f5e-d51a-43a5-88d5-c90463ef00da",
   "metadata": {},
   "outputs": [
    {
     "data": {
      "text/plain": [
       "File(filename=data/data.h5ts, title='', mode='w', root_uep='/', filters=Filters(complevel=0, shuffle=False, bitshuffle=False, fletcher32=False, least_significant_digit=None))\n",
       "/ (RootGroup) ''\n",
       "/data (Group/Timeseries) ''\n",
       "/data/y2023 (Group) ''\n",
       "/data/y2023/m01 (Group) ''\n",
       "/data/y2023/m12 (Group) ''\n",
       "/data/y2023/m12/d25 (Group) ''\n",
       "/data/y2023/m12/d25/ts_data (Table(0,)) ''\n",
       "  description := {\n",
       "  \"timestamp\": Int64Col(shape=(), dflt=0, pos=0),\n",
       "  \"N0\": Float64Col(shape=(), dflt=0.0, pos=1),\n",
       "  \"N1\": Float64Col(shape=(), dflt=0.0, pos=2),\n",
       "  \"N2\": Float64Col(shape=(), dflt=0.0, pos=3),\n",
       "  \"N3\": Float64Col(shape=(), dflt=0.0, pos=4),\n",
       "  \"N4\": Float64Col(shape=(), dflt=0.0, pos=5)}\n",
       "  byteorder := 'little'\n",
       "  chunkshape := (1365,)\n",
       "/data/y2023/m01/d01 (Group) ''\n",
       "/data/y2023/m01/d01/ts_data (Table(86400,)) ''\n",
       "  description := {\n",
       "  \"timestamp\": Int64Col(shape=(), dflt=0, pos=0),\n",
       "  \"N0\": Float64Col(shape=(), dflt=0.0, pos=1),\n",
       "  \"N1\": Float64Col(shape=(), dflt=0.0, pos=2),\n",
       "  \"N2\": Float64Col(shape=(), dflt=0.0, pos=3),\n",
       "  \"N3\": Float64Col(shape=(), dflt=0.0, pos=4),\n",
       "  \"N4\": Float64Col(shape=(), dflt=0.0, pos=5)}\n",
       "  byteorder := 'little'\n",
       "  chunkshape := (1365,)\n",
       "/data/y2023/m01/d02 (Group) ''\n",
       "/data/y2023/m01/d02/ts_data (Table(86400,)) ''\n",
       "  description := {\n",
       "  \"timestamp\": Int64Col(shape=(), dflt=0, pos=0),\n",
       "  \"N0\": Float64Col(shape=(), dflt=0.0, pos=1),\n",
       "  \"N1\": Float64Col(shape=(), dflt=0.0, pos=2),\n",
       "  \"N2\": Float64Col(shape=(), dflt=0.0, pos=3),\n",
       "  \"N3\": Float64Col(shape=(), dflt=0.0, pos=4),\n",
       "  \"N4\": Float64Col(shape=(), dflt=0.0, pos=5)}\n",
       "  byteorder := 'little'\n",
       "  chunkshape := (1365,)\n",
       "/data/y2023/m01/d03 (Group) ''\n",
       "/data/y2023/m01/d03/ts_data (Table(86400,)) ''\n",
       "  description := {\n",
       "  \"timestamp\": Int64Col(shape=(), dflt=0, pos=0),\n",
       "  \"N0\": Float64Col(shape=(), dflt=0.0, pos=1),\n",
       "  \"N1\": Float64Col(shape=(), dflt=0.0, pos=2),\n",
       "  \"N2\": Float64Col(shape=(), dflt=0.0, pos=3),\n",
       "  \"N3\": Float64Col(shape=(), dflt=0.0, pos=4),\n",
       "  \"N4\": Float64Col(shape=(), dflt=0.0, pos=5)}\n",
       "  byteorder := 'little'\n",
       "  chunkshape := (1365,)\n",
       "/data/y2023/m01/d04 (Group) ''\n",
       "/data/y2023/m01/d04/ts_data (Table(86400,)) ''\n",
       "  description := {\n",
       "  \"timestamp\": Int64Col(shape=(), dflt=0, pos=0),\n",
       "  \"N0\": Float64Col(shape=(), dflt=0.0, pos=1),\n",
       "  \"N1\": Float64Col(shape=(), dflt=0.0, pos=2),\n",
       "  \"N2\": Float64Col(shape=(), dflt=0.0, pos=3),\n",
       "  \"N3\": Float64Col(shape=(), dflt=0.0, pos=4),\n",
       "  \"N4\": Float64Col(shape=(), dflt=0.0, pos=5)}\n",
       "  byteorder := 'little'\n",
       "  chunkshape := (1365,)\n",
       "/data/y2023/m01/d05 (Group) ''\n",
       "/data/y2023/m01/d05/ts_data (Table(86400,)) ''\n",
       "  description := {\n",
       "  \"timestamp\": Int64Col(shape=(), dflt=0, pos=0),\n",
       "  \"N0\": Float64Col(shape=(), dflt=0.0, pos=1),\n",
       "  \"N1\": Float64Col(shape=(), dflt=0.0, pos=2),\n",
       "  \"N2\": Float64Col(shape=(), dflt=0.0, pos=3),\n",
       "  \"N3\": Float64Col(shape=(), dflt=0.0, pos=4),\n",
       "  \"N4\": Float64Col(shape=(), dflt=0.0, pos=5)}\n",
       "  byteorder := 'little'\n",
       "  chunkshape := (1365,)\n",
       "/data/y2023/m01/d06 (Group) ''\n",
       "/data/y2023/m01/d06/ts_data (Table(86400,)) ''\n",
       "  description := {\n",
       "  \"timestamp\": Int64Col(shape=(), dflt=0, pos=0),\n",
       "  \"N0\": Float64Col(shape=(), dflt=0.0, pos=1),\n",
       "  \"N1\": Float64Col(shape=(), dflt=0.0, pos=2),\n",
       "  \"N2\": Float64Col(shape=(), dflt=0.0, pos=3),\n",
       "  \"N3\": Float64Col(shape=(), dflt=0.0, pos=4),\n",
       "  \"N4\": Float64Col(shape=(), dflt=0.0, pos=5)}\n",
       "  byteorder := 'little'\n",
       "  chunkshape := (1365,)\n",
       "/data/y2023/m01/d07 (Group) ''\n",
       "/data/y2023/m01/d07/ts_data (Table(86400,)) ''\n",
       "  description := {\n",
       "  \"timestamp\": Int64Col(shape=(), dflt=0, pos=0),\n",
       "  \"N0\": Float64Col(shape=(), dflt=0.0, pos=1),\n",
       "  \"N1\": Float64Col(shape=(), dflt=0.0, pos=2),\n",
       "  \"N2\": Float64Col(shape=(), dflt=0.0, pos=3),\n",
       "  \"N3\": Float64Col(shape=(), dflt=0.0, pos=4),\n",
       "  \"N4\": Float64Col(shape=(), dflt=0.0, pos=5)}\n",
       "  byteorder := 'little'\n",
       "  chunkshape := (1365,)\n",
       "/data/y2023/m01/d08 (Group) ''\n",
       "/data/y2023/m01/d08/ts_data (Table(86400,)) ''\n",
       "  description := {\n",
       "  \"timestamp\": Int64Col(shape=(), dflt=0, pos=0),\n",
       "  \"N0\": Float64Col(shape=(), dflt=0.0, pos=1),\n",
       "  \"N1\": Float64Col(shape=(), dflt=0.0, pos=2),\n",
       "  \"N2\": Float64Col(shape=(), dflt=0.0, pos=3),\n",
       "  \"N3\": Float64Col(shape=(), dflt=0.0, pos=4),\n",
       "  \"N4\": Float64Col(shape=(), dflt=0.0, pos=5)}\n",
       "  byteorder := 'little'\n",
       "  chunkshape := (1365,)\n",
       "/data/y2023/m01/d09 (Group) ''\n",
       "/data/y2023/m01/d09/ts_data (Table(86400,)) ''\n",
       "  description := {\n",
       "  \"timestamp\": Int64Col(shape=(), dflt=0, pos=0),\n",
       "  \"N0\": Float64Col(shape=(), dflt=0.0, pos=1),\n",
       "  \"N1\": Float64Col(shape=(), dflt=0.0, pos=2),\n",
       "  \"N2\": Float64Col(shape=(), dflt=0.0, pos=3),\n",
       "  \"N3\": Float64Col(shape=(), dflt=0.0, pos=4),\n",
       "  \"N4\": Float64Col(shape=(), dflt=0.0, pos=5)}\n",
       "  byteorder := 'little'\n",
       "  chunkshape := (1365,)\n",
       "/data/y2023/m01/d10 (Group) ''\n",
       "/data/y2023/m01/d10/ts_data (Table(86400,)) ''\n",
       "  description := {\n",
       "  \"timestamp\": Int64Col(shape=(), dflt=0, pos=0),\n",
       "  \"N0\": Float64Col(shape=(), dflt=0.0, pos=1),\n",
       "  \"N1\": Float64Col(shape=(), dflt=0.0, pos=2),\n",
       "  \"N2\": Float64Col(shape=(), dflt=0.0, pos=3),\n",
       "  \"N3\": Float64Col(shape=(), dflt=0.0, pos=4),\n",
       "  \"N4\": Float64Col(shape=(), dflt=0.0, pos=5)}\n",
       "  byteorder := 'little'\n",
       "  chunkshape := (1365,)\n",
       "/data/y2023/m01/d11 (Group) ''\n",
       "/data/y2023/m01/d11/ts_data (Table(86400,)) ''\n",
       "  description := {\n",
       "  \"timestamp\": Int64Col(shape=(), dflt=0, pos=0),\n",
       "  \"N0\": Float64Col(shape=(), dflt=0.0, pos=1),\n",
       "  \"N1\": Float64Col(shape=(), dflt=0.0, pos=2),\n",
       "  \"N2\": Float64Col(shape=(), dflt=0.0, pos=3),\n",
       "  \"N3\": Float64Col(shape=(), dflt=0.0, pos=4),\n",
       "  \"N4\": Float64Col(shape=(), dflt=0.0, pos=5)}\n",
       "  byteorder := 'little'\n",
       "  chunkshape := (1365,)\n",
       "/data/y2023/m01/d12 (Group) ''\n",
       "/data/y2023/m01/d12/ts_data (Table(86400,)) ''\n",
       "  description := {\n",
       "  \"timestamp\": Int64Col(shape=(), dflt=0, pos=0),\n",
       "  \"N0\": Float64Col(shape=(), dflt=0.0, pos=1),\n",
       "  \"N1\": Float64Col(shape=(), dflt=0.0, pos=2),\n",
       "  \"N2\": Float64Col(shape=(), dflt=0.0, pos=3),\n",
       "  \"N3\": Float64Col(shape=(), dflt=0.0, pos=4),\n",
       "  \"N4\": Float64Col(shape=(), dflt=0.0, pos=5)}\n",
       "  byteorder := 'little'\n",
       "  chunkshape := (1365,)\n",
       "/data/y2023/m01/d13 (Group) ''\n",
       "/data/y2023/m01/d13/ts_data (Table(86400,)) ''\n",
       "  description := {\n",
       "  \"timestamp\": Int64Col(shape=(), dflt=0, pos=0),\n",
       "  \"N0\": Float64Col(shape=(), dflt=0.0, pos=1),\n",
       "  \"N1\": Float64Col(shape=(), dflt=0.0, pos=2),\n",
       "  \"N2\": Float64Col(shape=(), dflt=0.0, pos=3),\n",
       "  \"N3\": Float64Col(shape=(), dflt=0.0, pos=4),\n",
       "  \"N4\": Float64Col(shape=(), dflt=0.0, pos=5)}\n",
       "  byteorder := 'little'\n",
       "  chunkshape := (1365,)\n",
       "/data/y2023/m01/d14 (Group) ''\n",
       "/data/y2023/m01/d14/ts_data (Table(86400,)) ''\n",
       "  description := {\n",
       "  \"timestamp\": Int64Col(shape=(), dflt=0, pos=0),\n",
       "  \"N0\": Float64Col(shape=(), dflt=0.0, pos=1),\n",
       "  \"N1\": Float64Col(shape=(), dflt=0.0, pos=2),\n",
       "  \"N2\": Float64Col(shape=(), dflt=0.0, pos=3),\n",
       "  \"N3\": Float64Col(shape=(), dflt=0.0, pos=4),\n",
       "  \"N4\": Float64Col(shape=(), dflt=0.0, pos=5)}\n",
       "  byteorder := 'little'\n",
       "  chunkshape := (1365,)\n",
       "/data/y2023/m01/d15 (Group) ''\n",
       "/data/y2023/m01/d15/ts_data (Table(86400,)) ''\n",
       "  description := {\n",
       "  \"timestamp\": Int64Col(shape=(), dflt=0, pos=0),\n",
       "  \"N0\": Float64Col(shape=(), dflt=0.0, pos=1),\n",
       "  \"N1\": Float64Col(shape=(), dflt=0.0, pos=2),\n",
       "  \"N2\": Float64Col(shape=(), dflt=0.0, pos=3),\n",
       "  \"N3\": Float64Col(shape=(), dflt=0.0, pos=4),\n",
       "  \"N4\": Float64Col(shape=(), dflt=0.0, pos=5)}\n",
       "  byteorder := 'little'\n",
       "  chunkshape := (1365,)\n",
       "/data/y2023/m01/d16 (Group) ''\n",
       "/data/y2023/m01/d16/ts_data (Table(86400,)) ''\n",
       "  description := {\n",
       "  \"timestamp\": Int64Col(shape=(), dflt=0, pos=0),\n",
       "  \"N0\": Float64Col(shape=(), dflt=0.0, pos=1),\n",
       "  \"N1\": Float64Col(shape=(), dflt=0.0, pos=2),\n",
       "  \"N2\": Float64Col(shape=(), dflt=0.0, pos=3),\n",
       "  \"N3\": Float64Col(shape=(), dflt=0.0, pos=4),\n",
       "  \"N4\": Float64Col(shape=(), dflt=0.0, pos=5)}\n",
       "  byteorder := 'little'\n",
       "  chunkshape := (1365,)\n",
       "/data/y2023/m01/d17 (Group) ''\n",
       "/data/y2023/m01/d17/ts_data (Table(86400,)) ''\n",
       "  description := {\n",
       "  \"timestamp\": Int64Col(shape=(), dflt=0, pos=0),\n",
       "  \"N0\": Float64Col(shape=(), dflt=0.0, pos=1),\n",
       "  \"N1\": Float64Col(shape=(), dflt=0.0, pos=2),\n",
       "  \"N2\": Float64Col(shape=(), dflt=0.0, pos=3),\n",
       "  \"N3\": Float64Col(shape=(), dflt=0.0, pos=4),\n",
       "  \"N4\": Float64Col(shape=(), dflt=0.0, pos=5)}\n",
       "  byteorder := 'little'\n",
       "  chunkshape := (1365,)\n",
       "/data/y2023/m01/d18 (Group) ''\n",
       "/data/y2023/m01/d18/ts_data (Table(86400,)) ''\n",
       "  description := {\n",
       "  \"timestamp\": Int64Col(shape=(), dflt=0, pos=0),\n",
       "  \"N0\": Float64Col(shape=(), dflt=0.0, pos=1),\n",
       "  \"N1\": Float64Col(shape=(), dflt=0.0, pos=2),\n",
       "  \"N2\": Float64Col(shape=(), dflt=0.0, pos=3),\n",
       "  \"N3\": Float64Col(shape=(), dflt=0.0, pos=4),\n",
       "  \"N4\": Float64Col(shape=(), dflt=0.0, pos=5)}\n",
       "  byteorder := 'little'\n",
       "  chunkshape := (1365,)\n",
       "/data/y2023/m01/d19 (Group) ''\n",
       "/data/y2023/m01/d19/ts_data (Table(86400,)) ''\n",
       "  description := {\n",
       "  \"timestamp\": Int64Col(shape=(), dflt=0, pos=0),\n",
       "  \"N0\": Float64Col(shape=(), dflt=0.0, pos=1),\n",
       "  \"N1\": Float64Col(shape=(), dflt=0.0, pos=2),\n",
       "  \"N2\": Float64Col(shape=(), dflt=0.0, pos=3),\n",
       "  \"N3\": Float64Col(shape=(), dflt=0.0, pos=4),\n",
       "  \"N4\": Float64Col(shape=(), dflt=0.0, pos=5)}\n",
       "  byteorder := 'little'\n",
       "  chunkshape := (1365,)\n",
       "/data/y2023/m01/d20 (Group) ''\n",
       "/data/y2023/m01/d20/ts_data (Table(86400,)) ''\n",
       "  description := {\n",
       "  \"timestamp\": Int64Col(shape=(), dflt=0, pos=0),\n",
       "  \"N0\": Float64Col(shape=(), dflt=0.0, pos=1),\n",
       "  \"N1\": Float64Col(shape=(), dflt=0.0, pos=2),\n",
       "  \"N2\": Float64Col(shape=(), dflt=0.0, pos=3),\n",
       "  \"N3\": Float64Col(shape=(), dflt=0.0, pos=4),\n",
       "  \"N4\": Float64Col(shape=(), dflt=0.0, pos=5)}\n",
       "  byteorder := 'little'\n",
       "  chunkshape := (1365,)\n",
       "/data/y2023/m01/d21 (Group) ''\n",
       "/data/y2023/m01/d21/ts_data (Table(86400,)) ''\n",
       "  description := {\n",
       "  \"timestamp\": Int64Col(shape=(), dflt=0, pos=0),\n",
       "  \"N0\": Float64Col(shape=(), dflt=0.0, pos=1),\n",
       "  \"N1\": Float64Col(shape=(), dflt=0.0, pos=2),\n",
       "  \"N2\": Float64Col(shape=(), dflt=0.0, pos=3),\n",
       "  \"N3\": Float64Col(shape=(), dflt=0.0, pos=4),\n",
       "  \"N4\": Float64Col(shape=(), dflt=0.0, pos=5)}\n",
       "  byteorder := 'little'\n",
       "  chunkshape := (1365,)\n",
       "/data/y2023/m01/d22 (Group) ''\n",
       "/data/y2023/m01/d22/ts_data (Table(86400,)) ''\n",
       "  description := {\n",
       "  \"timestamp\": Int64Col(shape=(), dflt=0, pos=0),\n",
       "  \"N0\": Float64Col(shape=(), dflt=0.0, pos=1),\n",
       "  \"N1\": Float64Col(shape=(), dflt=0.0, pos=2),\n",
       "  \"N2\": Float64Col(shape=(), dflt=0.0, pos=3),\n",
       "  \"N3\": Float64Col(shape=(), dflt=0.0, pos=4),\n",
       "  \"N4\": Float64Col(shape=(), dflt=0.0, pos=5)}\n",
       "  byteorder := 'little'\n",
       "  chunkshape := (1365,)\n",
       "/data/y2023/m01/d23 (Group) ''\n",
       "/data/y2023/m01/d23/ts_data (Table(86400,)) ''\n",
       "  description := {\n",
       "  \"timestamp\": Int64Col(shape=(), dflt=0, pos=0),\n",
       "  \"N0\": Float64Col(shape=(), dflt=0.0, pos=1),\n",
       "  \"N1\": Float64Col(shape=(), dflt=0.0, pos=2),\n",
       "  \"N2\": Float64Col(shape=(), dflt=0.0, pos=3),\n",
       "  \"N3\": Float64Col(shape=(), dflt=0.0, pos=4),\n",
       "  \"N4\": Float64Col(shape=(), dflt=0.0, pos=5)}\n",
       "  byteorder := 'little'\n",
       "  chunkshape := (1365,)\n",
       "/data/y2023/m01/d24 (Group) ''\n",
       "/data/y2023/m01/d24/ts_data (Table(86400,)) ''\n",
       "  description := {\n",
       "  \"timestamp\": Int64Col(shape=(), dflt=0, pos=0),\n",
       "  \"N0\": Float64Col(shape=(), dflt=0.0, pos=1),\n",
       "  \"N1\": Float64Col(shape=(), dflt=0.0, pos=2),\n",
       "  \"N2\": Float64Col(shape=(), dflt=0.0, pos=3),\n",
       "  \"N3\": Float64Col(shape=(), dflt=0.0, pos=4),\n",
       "  \"N4\": Float64Col(shape=(), dflt=0.0, pos=5)}\n",
       "  byteorder := 'little'\n",
       "  chunkshape := (1365,)\n",
       "/data/y2023/m01/d25 (Group) ''\n",
       "/data/y2023/m01/d25/ts_data (Table(86400,)) ''\n",
       "  description := {\n",
       "  \"timestamp\": Int64Col(shape=(), dflt=0, pos=0),\n",
       "  \"N0\": Float64Col(shape=(), dflt=0.0, pos=1),\n",
       "  \"N1\": Float64Col(shape=(), dflt=0.0, pos=2),\n",
       "  \"N2\": Float64Col(shape=(), dflt=0.0, pos=3),\n",
       "  \"N3\": Float64Col(shape=(), dflt=0.0, pos=4),\n",
       "  \"N4\": Float64Col(shape=(), dflt=0.0, pos=5)}\n",
       "  byteorder := 'little'\n",
       "  chunkshape := (1365,)\n",
       "/data/y2023/m01/d26 (Group) ''\n",
       "/data/y2023/m01/d26/ts_data (Table(86400,)) ''\n",
       "  description := {\n",
       "  \"timestamp\": Int64Col(shape=(), dflt=0, pos=0),\n",
       "  \"N0\": Float64Col(shape=(), dflt=0.0, pos=1),\n",
       "  \"N1\": Float64Col(shape=(), dflt=0.0, pos=2),\n",
       "  \"N2\": Float64Col(shape=(), dflt=0.0, pos=3),\n",
       "  \"N3\": Float64Col(shape=(), dflt=0.0, pos=4),\n",
       "  \"N4\": Float64Col(shape=(), dflt=0.0, pos=5)}\n",
       "  byteorder := 'little'\n",
       "  chunkshape := (1365,)\n",
       "/data/y2023/m01/d27 (Group) ''\n",
       "/data/y2023/m01/d27/ts_data (Table(86400,)) ''\n",
       "  description := {\n",
       "  \"timestamp\": Int64Col(shape=(), dflt=0, pos=0),\n",
       "  \"N0\": Float64Col(shape=(), dflt=0.0, pos=1),\n",
       "  \"N1\": Float64Col(shape=(), dflt=0.0, pos=2),\n",
       "  \"N2\": Float64Col(shape=(), dflt=0.0, pos=3),\n",
       "  \"N3\": Float64Col(shape=(), dflt=0.0, pos=4),\n",
       "  \"N4\": Float64Col(shape=(), dflt=0.0, pos=5)}\n",
       "  byteorder := 'little'\n",
       "  chunkshape := (1365,)\n",
       "/data/y2023/m01/d28 (Group) ''\n",
       "/data/y2023/m01/d28/ts_data (Table(86400,)) ''\n",
       "  description := {\n",
       "  \"timestamp\": Int64Col(shape=(), dflt=0, pos=0),\n",
       "  \"N0\": Float64Col(shape=(), dflt=0.0, pos=1),\n",
       "  \"N1\": Float64Col(shape=(), dflt=0.0, pos=2),\n",
       "  \"N2\": Float64Col(shape=(), dflt=0.0, pos=3),\n",
       "  \"N3\": Float64Col(shape=(), dflt=0.0, pos=4),\n",
       "  \"N4\": Float64Col(shape=(), dflt=0.0, pos=5)}\n",
       "  byteorder := 'little'\n",
       "  chunkshape := (1365,)\n",
       "/data/y2023/m01/d29 (Group) ''\n",
       "/data/y2023/m01/d29/ts_data (Table(80800,)) ''\n",
       "  description := {\n",
       "  \"timestamp\": Int64Col(shape=(), dflt=0, pos=0),\n",
       "  \"N0\": Float64Col(shape=(), dflt=0.0, pos=1),\n",
       "  \"N1\": Float64Col(shape=(), dflt=0.0, pos=2),\n",
       "  \"N2\": Float64Col(shape=(), dflt=0.0, pos=3),\n",
       "  \"N3\": Float64Col(shape=(), dflt=0.0, pos=4),\n",
       "  \"N4\": Float64Col(shape=(), dflt=0.0, pos=5)}\n",
       "  byteorder := 'little'\n",
       "  chunkshape := (1365,)"
      ]
     },
     "execution_count": 81,
     "metadata": {},
     "output_type": "execute_result"
    }
   ],
   "source": [
    "h5ts"
   ]
  },
  {
   "cell_type": "markdown",
   "id": "1da10335-a015-4a9c-a4b8-951f5a84bc5c",
   "metadata": {},
   "source": [
    "### Read .h5ts into DataFrame"
   ]
  },
  {
   "cell_type": "code",
   "execution_count": 82,
   "id": "b37916f2-f9a4-425a-a06e-46adf5bea4b6",
   "metadata": {},
   "outputs": [],
   "source": [
    "import datetime\n",
    "start = datetime.datetime(2023, 1, 2)\n",
    "end = datetime.datetime(2023, 1, 3)"
   ]
  },
  {
   "cell_type": "code",
   "execution_count": 83,
   "id": "3915516a-c2a4-48b0-bc97-c469017a7a10",
   "metadata": {},
   "outputs": [
    {
     "name": "stdout",
     "output_type": "stream",
     "text": [
      "Wall time: 23 ms\n"
     ]
    }
   ],
   "source": [
    "%time subset = ts.read_range(start, end)"
   ]
  },
  {
   "cell_type": "code",
   "execution_count": 84,
   "id": "fffcb94a-b452-4e9a-a460-da27bd019a19",
   "metadata": {},
   "outputs": [
    {
     "name": "stdout",
     "output_type": "stream",
     "text": [
      "Wall time: 53.4 ms\n"
     ]
    }
   ],
   "source": [
    "start = datetime.datetime(2023, 1, 2, 12, 30, 0)\n",
    "end = datetime.datetime(2023, 1, 5, 17, 15, 30)\n",
    "%time subset2 = ts.read_range(start, end)"
   ]
  },
  {
   "cell_type": "code",
   "execution_count": 85,
   "id": "e1e1390c-489f-4ac6-b3b0-dbfab3504167",
   "metadata": {},
   "outputs": [
    {
     "name": "stdout",
     "output_type": "stream",
     "text": [
      "<class 'pandas.core.frame.DataFrame'>\n",
      "DatetimeIndex: 276331 entries, 2023-01-02 12:30:00 to 2023-01-05 17:15:30\n",
      "Data columns (total 5 columns):\n",
      " #   Column  Non-Null Count   Dtype  \n",
      "---  ------  --------------   -----  \n",
      " 0   N0      276331 non-null  float64\n",
      " 1   N1      276331 non-null  float64\n",
      " 2   N2      276331 non-null  float64\n",
      " 3   N3      276331 non-null  float64\n",
      " 4   N4      276331 non-null  float64\n",
      "dtypes: float64(5)\n",
      "memory usage: 12.6 MB\n"
     ]
    }
   ],
   "source": [
    "subset2.info()"
   ]
  },
  {
   "cell_type": "code",
   "execution_count": 86,
   "id": "974af000-16d2-4838-9567-d9211e16359b",
   "metadata": {},
   "outputs": [],
   "source": [
    "h5ts.close()"
   ]
  },
  {
   "cell_type": "code",
   "execution_count": 89,
   "id": "d1e408a4-c814-4604-864b-98ca1cc26f32",
   "metadata": {},
   "outputs": [],
   "source": [
    "# In conda prompt, run \"del data\\data.h5ts\" to remove file"
   ]
  },
  {
   "cell_type": "markdown",
   "id": "33fd4710-a538-4b2d-b05a-cfb0af476666",
   "metadata": {},
   "source": [
    "## Storing Data with SQLite3"
   ]
  },
  {
   "cell_type": "markdown",
   "id": "1c803706-919c-421a-8f1f-816852968913",
   "metadata": {},
   "source": [
    "#### Note: SQLite3 is a relational database, where the SQL query language can be applied to implement more sophisticated analyses. But it is slower than the binary storage format like HDF5. "
   ]
  },
  {
   "cell_type": "code",
   "execution_count": 90,
   "id": "7664e886-7b76-42e0-b780-cc02ca87da3f",
   "metadata": {},
   "outputs": [
    {
     "name": "stdout",
     "output_type": "stream",
     "text": [
      "Wall time: 502 ms\n"
     ]
    }
   ],
   "source": [
    "%time data = generate_sample_data(1e6, 5, '1min').round(4)"
   ]
  },
  {
   "cell_type": "code",
   "execution_count": 91,
   "id": "b04a54f7-f815-48f3-8743-1cdded40885e",
   "metadata": {},
   "outputs": [
    {
     "name": "stdout",
     "output_type": "stream",
     "text": [
      "<class 'pandas.core.frame.DataFrame'>\n",
      "DatetimeIndex: 1000000 entries, 2023-01-01 00:00:00 to 2024-11-25 10:39:00\n",
      "Freq: T\n",
      "Data columns (total 5 columns):\n",
      " #   Column  Non-Null Count    Dtype  \n",
      "---  ------  --------------    -----  \n",
      " 0   No0     1000000 non-null  float64\n",
      " 1   No1     1000000 non-null  float64\n",
      " 2   No2     1000000 non-null  float64\n",
      " 3   No3     1000000 non-null  float64\n",
      " 4   No4     1000000 non-null  float64\n",
      "dtypes: float64(5)\n",
      "memory usage: 45.8 MB\n"
     ]
    }
   ],
   "source": [
    "data.info()"
   ]
  },
  {
   "cell_type": "code",
   "execution_count": 93,
   "id": "8cccb8fa-4961-468a-8ef1-17f4e7d77310",
   "metadata": {},
   "outputs": [],
   "source": [
    "import sqlite3 as sq3\n",
    "con = sq3.connect('data/data.sql')"
   ]
  },
  {
   "cell_type": "code",
   "execution_count": 94,
   "id": "61587980-704f-4aea-84c2-a18347e52354",
   "metadata": {},
   "outputs": [
    {
     "name": "stdout",
     "output_type": "stream",
     "text": [
      "Wall time: 5.45 s\n"
     ]
    },
    {
     "data": {
      "text/plain": [
       "1000000"
      ]
     },
     "execution_count": 94,
     "metadata": {},
     "output_type": "execute_result"
    }
   ],
   "source": [
    "%time data.to_sql('data', con)"
   ]
  },
  {
   "cell_type": "code",
   "execution_count": 95,
   "id": "4aece64d-8119-4fa5-9905-ba660ac77116",
   "metadata": {},
   "outputs": [],
   "source": [
    "query = 'SELECT * FROM data WHERE No1 > 105 and No2 < 108'"
   ]
  },
  {
   "cell_type": "code",
   "execution_count": 96,
   "id": "867659ff-dc7c-42ef-821a-759c62409cc1",
   "metadata": {},
   "outputs": [
    {
     "name": "stdout",
     "output_type": "stream",
     "text": [
      "Wall time: 469 ms\n"
     ]
    }
   ],
   "source": [
    "%time res = con.execute(query).fetchall()"
   ]
  },
  {
   "cell_type": "code",
   "execution_count": 102,
   "id": "e4f12c5f-c835-4ece-bab5-598524cfae4d",
   "metadata": {},
   "outputs": [
    {
     "data": {
      "text/plain": [
       "[('2024-11-25 10:20:00', 55.3471, 140.4204, 24.5429, 41.2253, 69.7958),\n",
       " ('2024-11-25 10:21:00', 55.3155, 140.4411, 24.5369, 41.24, 69.7973),\n",
       " ('2024-11-25 10:22:00', 55.3045, 140.4083, 24.5157, 41.2141, 69.7778),\n",
       " ('2024-11-25 10:23:00', 55.2729, 140.5022, 24.5228, 41.2386, 69.7287),\n",
       " ('2024-11-25 10:24:00', 55.2248, 140.3836, 24.5315, 41.202, 69.6891),\n",
       " ('2024-11-25 10:25:00', 55.2271, 140.3174, 24.5551, 41.1153, 69.6743),\n",
       " ('2024-11-25 10:26:00', 55.2695, 140.1287, 24.586, 41.1239, 69.7369),\n",
       " ('2024-11-25 10:27:00', 55.2541, 140.1091, 24.5885, 41.1293, 69.7174),\n",
       " ('2024-11-25 10:28:00', 55.266, 140.1666, 24.578, 41.1564, 69.8169),\n",
       " ('2024-11-25 10:29:00', 55.294, 140.2414, 24.5835, 41.1425, 69.799),\n",
       " ('2024-11-25 10:30:00', 55.2612, 140.1413, 24.5864, 41.1468, 69.8397),\n",
       " ('2024-11-25 10:31:00', 55.2687, 140.3201, 24.5969, 41.0867, 69.8298),\n",
       " ('2024-11-25 10:32:00', 55.2736, 140.3591, 24.5787, 41.0774, 69.82),\n",
       " ('2024-11-25 10:33:00', 55.249, 140.5965, 24.6005, 41.0677, 69.8356),\n",
       " ('2024-11-25 10:34:00', 55.2724, 140.653, 24.6005, 41.0899, 69.8579),\n",
       " ('2024-11-25 10:35:00', 55.2724, 140.7079, 24.6166, 41.0993, 69.8969),\n",
       " ('2024-11-25 10:36:00', 55.3439, 140.7683, 24.6255, 41.1412, 69.8452),\n",
       " ('2024-11-25 10:37:00', 55.3275, 140.7931, 24.6329, 41.1519, 69.9505),\n",
       " ('2024-11-25 10:38:00', 55.318, 140.8697, 24.6433, 41.1171, 69.982),\n",
       " ('2024-11-25 10:39:00', 55.332, 140.8164, 24.6385, 41.0933, 69.9731)]"
      ]
     },
     "execution_count": 102,
     "metadata": {},
     "output_type": "execute_result"
    }
   ],
   "source": [
    "res[-20:]"
   ]
  },
  {
   "cell_type": "code",
   "execution_count": 103,
   "id": "39564c49-a175-4b75-93fb-cd27db0ea89b",
   "metadata": {},
   "outputs": [],
   "source": [
    "con.close()"
   ]
  },
  {
   "cell_type": "code",
   "execution_count": 104,
   "id": "f5e9587e-22eb-49f6-b2fb-88a0a64e7bc4",
   "metadata": {},
   "outputs": [],
   "source": [
    "# In conda prompt, run \"del data\\data.sql\" to remove file"
   ]
  },
  {
   "cell_type": "markdown",
   "id": "0c7c6c9c-ae3a-4869-9261-91299c249ab0",
   "metadata": {},
   "source": [
    "### See also: SQLAlchemy, which allows for the use of MySQL as the relational database backend."
   ]
  },
  {
   "cell_type": "code",
   "execution_count": null,
   "id": "c567642e-2448-4857-b35a-c5f52ce3f573",
   "metadata": {},
   "outputs": [],
   "source": []
  }
 ],
 "metadata": {
  "kernelspec": {
   "display_name": "Python 3 (ipykernel)",
   "language": "python",
   "name": "python3"
  },
  "language_info": {
   "codemirror_mode": {
    "name": "ipython",
    "version": 3
   },
   "file_extension": ".py",
   "mimetype": "text/x-python",
   "name": "python",
   "nbconvert_exporter": "python",
   "pygments_lexer": "ipython3",
   "version": "3.9.18"
  }
 },
 "nbformat": 4,
 "nbformat_minor": 5
}
