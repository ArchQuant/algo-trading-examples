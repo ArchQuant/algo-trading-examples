{
 "cells": [
  {
   "cell_type": "markdown",
   "id": "27a0012c-f6e3-464e-bfbb-9b41626c9370",
   "metadata": {},
   "source": [
    "# Vectorization"
   ]
  },
  {
   "cell_type": "markdown",
   "id": "ecafd1bb-441d-4bd0-8f25-3c891a6728ae",
   "metadata": {},
   "source": [
    "## Using for loop"
   ]
  },
  {
   "cell_type": "code",
   "execution_count": 1,
   "id": "56caff33-19e1-44e4-ae71-f8533481a941",
   "metadata": {},
   "outputs": [
    {
     "data": {
      "text/plain": [
       "[2, 4, 6, 8, 10]"
      ]
     },
     "execution_count": 1,
     "metadata": {},
     "output_type": "execute_result"
    }
   ],
   "source": [
    "v = [1,2,3,4,5]\n",
    "v2 = [2 * i for i in v]\n",
    "v2"
   ]
  },
  {
   "cell_type": "code",
   "execution_count": 2,
   "id": "3f5454bb-4a39-4697-b94f-4679663b77a2",
   "metadata": {},
   "outputs": [
    {
     "data": {
      "text/plain": [
       "[1, 2, 3, 4, 5, 1, 2, 3, 4, 5]"
      ]
     },
     "execution_count": 2,
     "metadata": {},
     "output_type": "execute_result"
    }
   ],
   "source": [
    "2 * v"
   ]
  },
  {
   "cell_type": "markdown",
   "id": "e0544156-4e24-4783-802f-970c1274dcb8",
   "metadata": {},
   "source": [
    "## Vectorization with Numpy"
   ]
  },
  {
   "cell_type": "code",
   "execution_count": 3,
   "id": "65416ed7-6c20-407b-b85d-c7f0e1a5e6f6",
   "metadata": {},
   "outputs": [
    {
     "data": {
      "text/plain": [
       "array([1, 2, 3, 4, 5])"
      ]
     },
     "execution_count": 3,
     "metadata": {},
     "output_type": "execute_result"
    }
   ],
   "source": [
    "import numpy as np\n",
    "a = np.array(v)\n",
    "a"
   ]
  },
  {
   "cell_type": "code",
   "execution_count": 4,
   "id": "d8a583ce-8fd3-48d1-a8fa-88a34446668e",
   "metadata": {},
   "outputs": [
    {
     "data": {
      "text/plain": [
       "numpy.ndarray"
      ]
     },
     "execution_count": 4,
     "metadata": {},
     "output_type": "execute_result"
    }
   ],
   "source": [
    "type(a)"
   ]
  },
  {
   "cell_type": "code",
   "execution_count": 5,
   "id": "08c6d930-e017-4888-a6e2-9948131bd20c",
   "metadata": {},
   "outputs": [
    {
     "data": {
      "text/plain": [
       "array([ 2,  4,  6,  8, 10])"
      ]
     },
     "execution_count": 5,
     "metadata": {},
     "output_type": "execute_result"
    }
   ],
   "source": [
    "2 * a"
   ]
  },
  {
   "cell_type": "code",
   "execution_count": 6,
   "id": "2a520de8-7efb-42f9-89cf-d5e9fdda50b3",
   "metadata": {},
   "outputs": [],
   "source": [
    "b = np.arange(12).reshape((4, 3))"
   ]
  },
  {
   "cell_type": "code",
   "execution_count": 7,
   "id": "4ac1085d-3443-49da-9f1a-0867bd9c2216",
   "metadata": {},
   "outputs": [
    {
     "data": {
      "text/plain": [
       "array([[ 0,  1,  2],\n",
       "       [ 3,  4,  5],\n",
       "       [ 6,  7,  8],\n",
       "       [ 9, 10, 11]])"
      ]
     },
     "execution_count": 7,
     "metadata": {},
     "output_type": "execute_result"
    }
   ],
   "source": [
    "b"
   ]
  },
  {
   "cell_type": "code",
   "execution_count": 8,
   "id": "ffbd6388-862a-4cc4-b6c6-28f8609167a5",
   "metadata": {},
   "outputs": [
    {
     "data": {
      "text/plain": [
       "array([[ 0,  2,  4],\n",
       "       [ 6,  8, 10],\n",
       "       [12, 14, 16],\n",
       "       [18, 20, 22]])"
      ]
     },
     "execution_count": 8,
     "metadata": {},
     "output_type": "execute_result"
    }
   ],
   "source": [
    "b * 2"
   ]
  },
  {
   "cell_type": "code",
   "execution_count": 9,
   "id": "e7c9310a-9d5a-449d-a6ff-59264bd62e2d",
   "metadata": {},
   "outputs": [
    {
     "data": {
      "text/plain": [
       "array([[  0,   1,   4],\n",
       "       [  9,  16,  25],\n",
       "       [ 36,  49,  64],\n",
       "       [ 81, 100, 121]], dtype=int32)"
      ]
     },
     "execution_count": 9,
     "metadata": {},
     "output_type": "execute_result"
    }
   ],
   "source": [
    "b ** 2"
   ]
  },
  {
   "cell_type": "code",
   "execution_count": 29,
   "id": "bf440402-62b1-4674-9423-4e38b5027f1c",
   "metadata": {},
   "outputs": [
    {
     "data": {
      "text/plain": [
       "5.5"
      ]
     },
     "execution_count": 29,
     "metadata": {},
     "output_type": "execute_result"
    }
   ],
   "source": [
    "# mean for np.ndarray is by default to the full array\n",
    "b.mean()"
   ]
  },
  {
   "cell_type": "code",
   "execution_count": 11,
   "id": "6c868f8f-9012-4bfc-992d-a91a627a428a",
   "metadata": {},
   "outputs": [
    {
     "data": {
      "text/plain": [
       "5.5"
      ]
     },
     "execution_count": 11,
     "metadata": {},
     "output_type": "execute_result"
    }
   ],
   "source": [
    "np.mean(b)"
   ]
  },
  {
   "cell_type": "code",
   "execution_count": 12,
   "id": "df5b5916-60ab-4c1d-ba0a-0ddb2d6ded17",
   "metadata": {},
   "outputs": [
    {
     "data": {
      "text/plain": [
       "array([4.5, 5.5, 6.5])"
      ]
     },
     "execution_count": 12,
     "metadata": {},
     "output_type": "execute_result"
    }
   ],
   "source": [
    "b.mean(axis=0)"
   ]
  },
  {
   "cell_type": "code",
   "execution_count": 26,
   "id": "9ca0a455-103e-4e44-978c-4e4eb91a8daf",
   "metadata": {},
   "outputs": [
    {
     "data": {
      "text/plain": [
       "array([ 1.,  4.,  7., 10.])"
      ]
     },
     "execution_count": 26,
     "metadata": {},
     "output_type": "execute_result"
    }
   ],
   "source": [
    "b.mean(axis=1)"
   ]
  },
  {
   "cell_type": "code",
   "execution_count": 13,
   "id": "4453abdd-c98b-4ede-826b-aa8cb9b86992",
   "metadata": {},
   "outputs": [
    {
     "data": {
      "text/plain": [
       "array([ 1.,  4.,  7., 10.])"
      ]
     },
     "execution_count": 13,
     "metadata": {},
     "output_type": "execute_result"
    }
   ],
   "source": [
    "np.mean(b, axis=1)"
   ]
  },
  {
   "cell_type": "markdown",
   "id": "f1b55dc6-0fcd-405b-bf2d-6fba631dfb39",
   "metadata": {},
   "source": [
    "## Vectorization with Pandas"
   ]
  },
  {
   "cell_type": "code",
   "execution_count": 19,
   "id": "9970564f-2f36-47cd-af05-d47e2f8f6cf1",
   "metadata": {},
   "outputs": [
    {
     "data": {
      "text/plain": [
       "array([[ 0,  1,  2],\n",
       "       [ 3,  4,  5],\n",
       "       [ 6,  7,  8],\n",
       "       [ 9, 10, 11],\n",
       "       [12, 13, 14],\n",
       "       [15, 16, 17],\n",
       "       [18, 19, 20]])"
      ]
     },
     "execution_count": 19,
     "metadata": {},
     "output_type": "execute_result"
    }
   ],
   "source": [
    "a = np.arange(21).reshape((7, 3))\n",
    "a"
   ]
  },
  {
   "cell_type": "code",
   "execution_count": 21,
   "id": "2904b9a4-a257-4b91-9e61-2ee0fc8ada1c",
   "metadata": {},
   "outputs": [
    {
     "data": {
      "text/html": [
       "<div>\n",
       "<style scoped>\n",
       "    .dataframe tbody tr th:only-of-type {\n",
       "        vertical-align: middle;\n",
       "    }\n",
       "\n",
       "    .dataframe tbody tr th {\n",
       "        vertical-align: top;\n",
       "    }\n",
       "\n",
       "    .dataframe thead th {\n",
       "        text-align: right;\n",
       "    }\n",
       "</style>\n",
       "<table border=\"1\" class=\"dataframe\">\n",
       "  <thead>\n",
       "    <tr style=\"text-align: right;\">\n",
       "      <th></th>\n",
       "      <th>a</th>\n",
       "      <th>b</th>\n",
       "      <th>c</th>\n",
       "    </tr>\n",
       "  </thead>\n",
       "  <tbody>\n",
       "    <tr>\n",
       "      <th>2023-07-03</th>\n",
       "      <td>0</td>\n",
       "      <td>1</td>\n",
       "      <td>2</td>\n",
       "    </tr>\n",
       "    <tr>\n",
       "      <th>2023-07-04</th>\n",
       "      <td>3</td>\n",
       "      <td>4</td>\n",
       "      <td>5</td>\n",
       "    </tr>\n",
       "    <tr>\n",
       "      <th>2023-07-05</th>\n",
       "      <td>6</td>\n",
       "      <td>7</td>\n",
       "      <td>8</td>\n",
       "    </tr>\n",
       "    <tr>\n",
       "      <th>2023-07-06</th>\n",
       "      <td>9</td>\n",
       "      <td>10</td>\n",
       "      <td>11</td>\n",
       "    </tr>\n",
       "    <tr>\n",
       "      <th>2023-07-07</th>\n",
       "      <td>12</td>\n",
       "      <td>13</td>\n",
       "      <td>14</td>\n",
       "    </tr>\n",
       "    <tr>\n",
       "      <th>2023-07-10</th>\n",
       "      <td>15</td>\n",
       "      <td>16</td>\n",
       "      <td>17</td>\n",
       "    </tr>\n",
       "    <tr>\n",
       "      <th>2023-07-11</th>\n",
       "      <td>18</td>\n",
       "      <td>19</td>\n",
       "      <td>20</td>\n",
       "    </tr>\n",
       "  </tbody>\n",
       "</table>\n",
       "</div>"
      ],
      "text/plain": [
       "             a   b   c\n",
       "2023-07-03   0   1   2\n",
       "2023-07-04   3   4   5\n",
       "2023-07-05   6   7   8\n",
       "2023-07-06   9  10  11\n",
       "2023-07-07  12  13  14\n",
       "2023-07-10  15  16  17\n",
       "2023-07-11  18  19  20"
      ]
     },
     "execution_count": 21,
     "metadata": {},
     "output_type": "execute_result"
    }
   ],
   "source": [
    "import pandas as pd\n",
    "columns = list('abc')\n",
    "index = pd.date_range('2023-7-1', periods=7, freq='B')\n",
    "df = pd.DataFrame(a, columns=columns, index=index)\n",
    "df"
   ]
  },
  {
   "cell_type": "code",
   "execution_count": 22,
   "id": "852d2ffb-b5f9-409c-9128-1b89cb5a662e",
   "metadata": {},
   "outputs": [
    {
     "data": {
      "text/html": [
       "<div>\n",
       "<style scoped>\n",
       "    .dataframe tbody tr th:only-of-type {\n",
       "        vertical-align: middle;\n",
       "    }\n",
       "\n",
       "    .dataframe tbody tr th {\n",
       "        vertical-align: top;\n",
       "    }\n",
       "\n",
       "    .dataframe thead th {\n",
       "        text-align: right;\n",
       "    }\n",
       "</style>\n",
       "<table border=\"1\" class=\"dataframe\">\n",
       "  <thead>\n",
       "    <tr style=\"text-align: right;\">\n",
       "      <th></th>\n",
       "      <th>a</th>\n",
       "      <th>b</th>\n",
       "      <th>c</th>\n",
       "    </tr>\n",
       "  </thead>\n",
       "  <tbody>\n",
       "    <tr>\n",
       "      <th>2023-07-03</th>\n",
       "      <td>0</td>\n",
       "      <td>2</td>\n",
       "      <td>4</td>\n",
       "    </tr>\n",
       "    <tr>\n",
       "      <th>2023-07-04</th>\n",
       "      <td>6</td>\n",
       "      <td>8</td>\n",
       "      <td>10</td>\n",
       "    </tr>\n",
       "    <tr>\n",
       "      <th>2023-07-05</th>\n",
       "      <td>12</td>\n",
       "      <td>14</td>\n",
       "      <td>16</td>\n",
       "    </tr>\n",
       "    <tr>\n",
       "      <th>2023-07-06</th>\n",
       "      <td>18</td>\n",
       "      <td>20</td>\n",
       "      <td>22</td>\n",
       "    </tr>\n",
       "    <tr>\n",
       "      <th>2023-07-07</th>\n",
       "      <td>24</td>\n",
       "      <td>26</td>\n",
       "      <td>28</td>\n",
       "    </tr>\n",
       "    <tr>\n",
       "      <th>2023-07-10</th>\n",
       "      <td>30</td>\n",
       "      <td>32</td>\n",
       "      <td>34</td>\n",
       "    </tr>\n",
       "    <tr>\n",
       "      <th>2023-07-11</th>\n",
       "      <td>36</td>\n",
       "      <td>38</td>\n",
       "      <td>40</td>\n",
       "    </tr>\n",
       "  </tbody>\n",
       "</table>\n",
       "</div>"
      ],
      "text/plain": [
       "             a   b   c\n",
       "2023-07-03   0   2   4\n",
       "2023-07-04   6   8  10\n",
       "2023-07-05  12  14  16\n",
       "2023-07-06  18  20  22\n",
       "2023-07-07  24  26  28\n",
       "2023-07-10  30  32  34\n",
       "2023-07-11  36  38  40"
      ]
     },
     "execution_count": 22,
     "metadata": {},
     "output_type": "execute_result"
    }
   ],
   "source": [
    "2 * df"
   ]
  },
  {
   "cell_type": "code",
   "execution_count": 23,
   "id": "bba6d37e-d1c3-4a89-ac62-15fa0d253f0a",
   "metadata": {},
   "outputs": [
    {
     "data": {
      "text/plain": [
       "a    63\n",
       "b    70\n",
       "c    77\n",
       "dtype: int64"
      ]
     },
     "execution_count": 23,
     "metadata": {},
     "output_type": "execute_result"
    }
   ],
   "source": [
    "df.sum()"
   ]
  },
  {
   "cell_type": "code",
   "execution_count": 28,
   "id": "ea792229-b930-47a5-bf50-c2130645e6b2",
   "metadata": {},
   "outputs": [
    {
     "data": {
      "text/plain": [
       "a    63\n",
       "b    70\n",
       "c    77\n",
       "dtype: int64"
      ]
     },
     "execution_count": 28,
     "metadata": {},
     "output_type": "execute_result"
    }
   ],
   "source": [
    "df.sum(axis=0)"
   ]
  },
  {
   "cell_type": "code",
   "execution_count": 24,
   "id": "40cafa3c-86ce-42fc-bd9b-fdf0d0c75671",
   "metadata": {},
   "outputs": [
    {
     "data": {
      "text/plain": [
       "2023-07-03     3\n",
       "2023-07-04    12\n",
       "2023-07-05    21\n",
       "2023-07-06    30\n",
       "2023-07-07    39\n",
       "2023-07-10    48\n",
       "2023-07-11    57\n",
       "Freq: B, dtype: int64"
      ]
     },
     "execution_count": 24,
     "metadata": {},
     "output_type": "execute_result"
    }
   ],
   "source": [
    "df.sum(axis=1)"
   ]
  },
  {
   "cell_type": "code",
   "execution_count": 25,
   "id": "c8aef7c6-fc65-478f-9027-83d5402c7a58",
   "metadata": {},
   "outputs": [
    {
     "data": {
      "text/plain": [
       "a     9.0\n",
       "b    10.0\n",
       "c    11.0\n",
       "dtype: float64"
      ]
     },
     "execution_count": 25,
     "metadata": {},
     "output_type": "execute_result"
    }
   ],
   "source": [
    "df.mean()"
   ]
  },
  {
   "cell_type": "code",
   "execution_count": 27,
   "id": "5f373bbd-c0a4-4f66-b67e-51d3281ad34e",
   "metadata": {},
   "outputs": [
    {
     "data": {
      "text/plain": [
       "a     9.0\n",
       "b    10.0\n",
       "c    11.0\n",
       "dtype: float64"
      ]
     },
     "execution_count": 27,
     "metadata": {},
     "output_type": "execute_result"
    }
   ],
   "source": [
    "df.mean(axis=0)"
   ]
  },
  {
   "cell_type": "code",
   "execution_count": 31,
   "id": "4da216e4-5803-4721-9333-abe28e2e689e",
   "metadata": {},
   "outputs": [
    {
     "data": {
      "text/plain": [
       "2023-07-03     0\n",
       "2023-07-04     3\n",
       "2023-07-05     6\n",
       "2023-07-06     9\n",
       "2023-07-07    12\n",
       "2023-07-10    15\n",
       "2023-07-11    18\n",
       "Freq: B, Name: a, dtype: int32"
      ]
     },
     "execution_count": 31,
     "metadata": {},
     "output_type": "execute_result"
    }
   ],
   "source": [
    "df['a']"
   ]
  },
  {
   "cell_type": "code",
   "execution_count": 33,
   "id": "3728224d-4e61-464b-a7c0-e924b1730416",
   "metadata": {},
   "outputs": [
    {
     "data": {
      "text/plain": [
       "2023-07-03     2\n",
       "2023-07-04     8\n",
       "2023-07-05    14\n",
       "2023-07-06    20\n",
       "2023-07-07    26\n",
       "2023-07-10    32\n",
       "2023-07-11    38\n",
       "Freq: B, dtype: int32"
      ]
     },
     "execution_count": 33,
     "metadata": {},
     "output_type": "execute_result"
    }
   ],
   "source": [
    "df['a'] + df['c']"
   ]
  },
  {
   "cell_type": "code",
   "execution_count": 34,
   "id": "fe27a72a-05ee-42e2-a453-2bfe2a822922",
   "metadata": {},
   "outputs": [
    {
     "data": {
      "text/plain": [
       "2023-07-03     2\n",
       "2023-07-04    11\n",
       "2023-07-05    20\n",
       "2023-07-06    29\n",
       "2023-07-07    38\n",
       "2023-07-10    47\n",
       "2023-07-11    56\n",
       "Freq: B, dtype: int32"
      ]
     },
     "execution_count": 34,
     "metadata": {},
     "output_type": "execute_result"
    }
   ],
   "source": [
    "df.a * 2 + df.c"
   ]
  },
  {
   "cell_type": "code",
   "execution_count": 35,
   "id": "24ce5fc8-1960-4757-a836-1a36d54dcc31",
   "metadata": {},
   "outputs": [
    {
     "data": {
      "text/plain": [
       "2023-07-03    False\n",
       "2023-07-04    False\n",
       "2023-07-05     True\n",
       "2023-07-06     True\n",
       "2023-07-07     True\n",
       "2023-07-10     True\n",
       "2023-07-11     True\n",
       "Freq: B, Name: a, dtype: bool"
      ]
     },
     "execution_count": 35,
     "metadata": {},
     "output_type": "execute_result"
    }
   ],
   "source": [
    "df.a > 5"
   ]
  },
  {
   "cell_type": "code",
   "execution_count": 36,
   "id": "94cbff7f-3779-495a-95de-e3526c326a0a",
   "metadata": {},
   "outputs": [
    {
     "data": {
      "text/html": [
       "<div>\n",
       "<style scoped>\n",
       "    .dataframe tbody tr th:only-of-type {\n",
       "        vertical-align: middle;\n",
       "    }\n",
       "\n",
       "    .dataframe tbody tr th {\n",
       "        vertical-align: top;\n",
       "    }\n",
       "\n",
       "    .dataframe thead th {\n",
       "        text-align: right;\n",
       "    }\n",
       "</style>\n",
       "<table border=\"1\" class=\"dataframe\">\n",
       "  <thead>\n",
       "    <tr style=\"text-align: right;\">\n",
       "      <th></th>\n",
       "      <th>a</th>\n",
       "      <th>b</th>\n",
       "      <th>c</th>\n",
       "    </tr>\n",
       "  </thead>\n",
       "  <tbody>\n",
       "    <tr>\n",
       "      <th>2023-07-05</th>\n",
       "      <td>6</td>\n",
       "      <td>7</td>\n",
       "      <td>8</td>\n",
       "    </tr>\n",
       "    <tr>\n",
       "      <th>2023-07-06</th>\n",
       "      <td>9</td>\n",
       "      <td>10</td>\n",
       "      <td>11</td>\n",
       "    </tr>\n",
       "    <tr>\n",
       "      <th>2023-07-07</th>\n",
       "      <td>12</td>\n",
       "      <td>13</td>\n",
       "      <td>14</td>\n",
       "    </tr>\n",
       "    <tr>\n",
       "      <th>2023-07-10</th>\n",
       "      <td>15</td>\n",
       "      <td>16</td>\n",
       "      <td>17</td>\n",
       "    </tr>\n",
       "    <tr>\n",
       "      <th>2023-07-11</th>\n",
       "      <td>18</td>\n",
       "      <td>19</td>\n",
       "      <td>20</td>\n",
       "    </tr>\n",
       "  </tbody>\n",
       "</table>\n",
       "</div>"
      ],
      "text/plain": [
       "             a   b   c\n",
       "2023-07-05   6   7   8\n",
       "2023-07-06   9  10  11\n",
       "2023-07-07  12  13  14\n",
       "2023-07-10  15  16  17\n",
       "2023-07-11  18  19  20"
      ]
     },
     "execution_count": 36,
     "metadata": {},
     "output_type": "execute_result"
    }
   ],
   "source": [
    "df[df['a'] > 5]"
   ]
  },
  {
   "cell_type": "code",
   "execution_count": 37,
   "id": "1cec717e-0f22-48e3-9873-7bbf3a953d5f",
   "metadata": {},
   "outputs": [
    {
     "data": {
      "text/plain": [
       "2023-07-03    True\n",
       "2023-07-04    True\n",
       "2023-07-05    True\n",
       "2023-07-06    True\n",
       "2023-07-07    True\n",
       "2023-07-10    True\n",
       "2023-07-11    True\n",
       "Freq: B, dtype: bool"
      ]
     },
     "execution_count": 37,
     "metadata": {},
     "output_type": "execute_result"
    }
   ],
   "source": [
    "df['c'] > df['b']"
   ]
  },
  {
   "cell_type": "markdown",
   "id": "075bc421-8a5d-4558-afe6-ed7e7a6e26c1",
   "metadata": {},
   "source": [
    "## Simple Moving Averages## Simple Moving Averages"
   ]
  },
  {
   "cell_type": "code",
   "execution_count": 38,
   "id": "70000657-e206-4875-a28b-1baf7bc7aa86",
   "metadata": {},
   "outputs": [],
   "source": [
    "raw = pd.read_csv('data/pyalgo_eikon_eod_data.csv')"
   ]
  },
  {
   "cell_type": "code",
   "execution_count": 39,
   "id": "d458368b-2bf5-4faa-9ce6-e38d076f2551",
   "metadata": {},
   "outputs": [
    {
     "data": {
      "text/html": [
       "<div>\n",
       "<style scoped>\n",
       "    .dataframe tbody tr th:only-of-type {\n",
       "        vertical-align: middle;\n",
       "    }\n",
       "\n",
       "    .dataframe tbody tr th {\n",
       "        vertical-align: top;\n",
       "    }\n",
       "\n",
       "    .dataframe thead th {\n",
       "        text-align: right;\n",
       "    }\n",
       "</style>\n",
       "<table border=\"1\" class=\"dataframe\">\n",
       "  <thead>\n",
       "    <tr style=\"text-align: right;\">\n",
       "      <th></th>\n",
       "      <th>Date</th>\n",
       "      <th>AAPL.O</th>\n",
       "      <th>MSFT.O</th>\n",
       "      <th>INTC.O</th>\n",
       "      <th>AMZN.O</th>\n",
       "      <th>GS.N</th>\n",
       "      <th>SPY</th>\n",
       "      <th>.SPX</th>\n",
       "      <th>.VIX</th>\n",
       "      <th>EUR=</th>\n",
       "      <th>XAU=</th>\n",
       "      <th>GDX</th>\n",
       "      <th>GLD</th>\n",
       "    </tr>\n",
       "  </thead>\n",
       "  <tbody>\n",
       "    <tr>\n",
       "      <th>0</th>\n",
       "      <td>2010-01-01</td>\n",
       "      <td>NaN</td>\n",
       "      <td>NaN</td>\n",
       "      <td>NaN</td>\n",
       "      <td>NaN</td>\n",
       "      <td>NaN</td>\n",
       "      <td>NaN</td>\n",
       "      <td>NaN</td>\n",
       "      <td>NaN</td>\n",
       "      <td>1.4323</td>\n",
       "      <td>1096.35</td>\n",
       "      <td>NaN</td>\n",
       "      <td>NaN</td>\n",
       "    </tr>\n",
       "    <tr>\n",
       "      <th>1</th>\n",
       "      <td>2010-01-04</td>\n",
       "      <td>30.572827</td>\n",
       "      <td>30.950</td>\n",
       "      <td>20.88</td>\n",
       "      <td>133.90</td>\n",
       "      <td>173.08</td>\n",
       "      <td>113.33</td>\n",
       "      <td>1132.99</td>\n",
       "      <td>20.04</td>\n",
       "      <td>1.4411</td>\n",
       "      <td>1120.00</td>\n",
       "      <td>47.71</td>\n",
       "      <td>109.80</td>\n",
       "    </tr>\n",
       "    <tr>\n",
       "      <th>2</th>\n",
       "      <td>2010-01-05</td>\n",
       "      <td>30.625684</td>\n",
       "      <td>30.960</td>\n",
       "      <td>20.87</td>\n",
       "      <td>134.69</td>\n",
       "      <td>176.14</td>\n",
       "      <td>113.63</td>\n",
       "      <td>1136.52</td>\n",
       "      <td>19.35</td>\n",
       "      <td>1.4368</td>\n",
       "      <td>1118.65</td>\n",
       "      <td>48.17</td>\n",
       "      <td>109.70</td>\n",
       "    </tr>\n",
       "    <tr>\n",
       "      <th>3</th>\n",
       "      <td>2010-01-06</td>\n",
       "      <td>30.138541</td>\n",
       "      <td>30.770</td>\n",
       "      <td>20.80</td>\n",
       "      <td>132.25</td>\n",
       "      <td>174.26</td>\n",
       "      <td>113.71</td>\n",
       "      <td>1137.14</td>\n",
       "      <td>19.16</td>\n",
       "      <td>1.4412</td>\n",
       "      <td>1138.50</td>\n",
       "      <td>49.34</td>\n",
       "      <td>111.51</td>\n",
       "    </tr>\n",
       "    <tr>\n",
       "      <th>4</th>\n",
       "      <td>2010-01-07</td>\n",
       "      <td>30.082827</td>\n",
       "      <td>30.452</td>\n",
       "      <td>20.60</td>\n",
       "      <td>130.00</td>\n",
       "      <td>177.67</td>\n",
       "      <td>114.19</td>\n",
       "      <td>1141.69</td>\n",
       "      <td>19.06</td>\n",
       "      <td>1.4318</td>\n",
       "      <td>1131.90</td>\n",
       "      <td>49.10</td>\n",
       "      <td>110.82</td>\n",
       "    </tr>\n",
       "  </tbody>\n",
       "</table>\n",
       "</div>"
      ],
      "text/plain": [
       "         Date     AAPL.O  MSFT.O  INTC.O  AMZN.O    GS.N     SPY     .SPX  \\\n",
       "0  2010-01-01        NaN     NaN     NaN     NaN     NaN     NaN      NaN   \n",
       "1  2010-01-04  30.572827  30.950   20.88  133.90  173.08  113.33  1132.99   \n",
       "2  2010-01-05  30.625684  30.960   20.87  134.69  176.14  113.63  1136.52   \n",
       "3  2010-01-06  30.138541  30.770   20.80  132.25  174.26  113.71  1137.14   \n",
       "4  2010-01-07  30.082827  30.452   20.60  130.00  177.67  114.19  1141.69   \n",
       "\n",
       "    .VIX    EUR=     XAU=    GDX     GLD  \n",
       "0    NaN  1.4323  1096.35    NaN     NaN  \n",
       "1  20.04  1.4411  1120.00  47.71  109.80  \n",
       "2  19.35  1.4368  1118.65  48.17  109.70  \n",
       "3  19.16  1.4412  1138.50  49.34  111.51  \n",
       "4  19.06  1.4318  1131.90  49.10  110.82  "
      ]
     },
     "execution_count": 39,
     "metadata": {},
     "output_type": "execute_result"
    }
   ],
   "source": [
    "raw.head()"
   ]
  },
  {
   "cell_type": "code",
   "execution_count": 40,
   "id": "f417f343-978a-4fdd-9c66-fbf66b2cb998",
   "metadata": {},
   "outputs": [
    {
     "name": "stdout",
     "output_type": "stream",
     "text": [
      "<class 'pandas.core.frame.DataFrame'>\n",
      "RangeIndex: 2609 entries, 0 to 2608\n",
      "Data columns (total 13 columns):\n",
      " #   Column  Non-Null Count  Dtype  \n",
      "---  ------  --------------  -----  \n",
      " 0   Date    2609 non-null   object \n",
      " 1   AAPL.O  2516 non-null   float64\n",
      " 2   MSFT.O  2516 non-null   float64\n",
      " 3   INTC.O  2516 non-null   float64\n",
      " 4   AMZN.O  2516 non-null   float64\n",
      " 5   GS.N    2516 non-null   float64\n",
      " 6   SPY     2516 non-null   float64\n",
      " 7   .SPX    2516 non-null   float64\n",
      " 8   .VIX    2516 non-null   float64\n",
      " 9   EUR=    2609 non-null   float64\n",
      " 10  XAU=    2602 non-null   float64\n",
      " 11  GDX     2516 non-null   float64\n",
      " 12  GLD     2516 non-null   float64\n",
      "dtypes: float64(12), object(1)\n",
      "memory usage: 265.1+ KB\n"
     ]
    }
   ],
   "source": [
    "raw.info()"
   ]
  },
  {
   "cell_type": "code",
   "execution_count": 41,
   "id": "a7507026-5ddd-4582-bc5a-3780c0e7c3c3",
   "metadata": {},
   "outputs": [],
   "source": [
    "data = pd.DataFrame(raw['EUR='])"
   ]
  },
  {
   "cell_type": "code",
   "execution_count": 45,
   "id": "cc34b95b-fed3-4f06-b664-10960146a864",
   "metadata": {},
   "outputs": [
    {
     "data": {
      "text/html": [
       "<div>\n",
       "<style scoped>\n",
       "    .dataframe tbody tr th:only-of-type {\n",
       "        vertical-align: middle;\n",
       "    }\n",
       "\n",
       "    .dataframe tbody tr th {\n",
       "        vertical-align: top;\n",
       "    }\n",
       "\n",
       "    .dataframe thead th {\n",
       "        text-align: right;\n",
       "    }\n",
       "</style>\n",
       "<table border=\"1\" class=\"dataframe\">\n",
       "  <thead>\n",
       "    <tr style=\"text-align: right;\">\n",
       "      <th></th>\n",
       "      <th>EUR=</th>\n",
       "    </tr>\n",
       "  </thead>\n",
       "  <tbody>\n",
       "    <tr>\n",
       "      <th>0</th>\n",
       "      <td>1.4323</td>\n",
       "    </tr>\n",
       "    <tr>\n",
       "      <th>1</th>\n",
       "      <td>1.4411</td>\n",
       "    </tr>\n",
       "    <tr>\n",
       "      <th>2</th>\n",
       "      <td>1.4368</td>\n",
       "    </tr>\n",
       "    <tr>\n",
       "      <th>3</th>\n",
       "      <td>1.4412</td>\n",
       "    </tr>\n",
       "    <tr>\n",
       "      <th>4</th>\n",
       "      <td>1.4318</td>\n",
       "    </tr>\n",
       "  </tbody>\n",
       "</table>\n",
       "</div>"
      ],
      "text/plain": [
       "     EUR=\n",
       "0  1.4323\n",
       "1  1.4411\n",
       "2  1.4368\n",
       "3  1.4412\n",
       "4  1.4318"
      ]
     },
     "execution_count": 45,
     "metadata": {},
     "output_type": "execute_result"
    }
   ],
   "source": [
    "data.head()"
   ]
  },
  {
   "cell_type": "code",
   "execution_count": 46,
   "id": "fd46e92d-5f6f-4cf6-b2a8-41acc5ccecaf",
   "metadata": {},
   "outputs": [],
   "source": [
    "data.rename(columns={'EUR=': 'price'}, inplace=True)"
   ]
  },
  {
   "cell_type": "code",
   "execution_count": 47,
   "id": "bfcd8d13-8154-4914-b3ab-835544735cea",
   "metadata": {},
   "outputs": [
    {
     "data": {
      "text/html": [
       "<div>\n",
       "<style scoped>\n",
       "    .dataframe tbody tr th:only-of-type {\n",
       "        vertical-align: middle;\n",
       "    }\n",
       "\n",
       "    .dataframe tbody tr th {\n",
       "        vertical-align: top;\n",
       "    }\n",
       "\n",
       "    .dataframe thead th {\n",
       "        text-align: right;\n",
       "    }\n",
       "</style>\n",
       "<table border=\"1\" class=\"dataframe\">\n",
       "  <thead>\n",
       "    <tr style=\"text-align: right;\">\n",
       "      <th></th>\n",
       "      <th>price</th>\n",
       "    </tr>\n",
       "  </thead>\n",
       "  <tbody>\n",
       "    <tr>\n",
       "      <th>0</th>\n",
       "      <td>1.4323</td>\n",
       "    </tr>\n",
       "    <tr>\n",
       "      <th>1</th>\n",
       "      <td>1.4411</td>\n",
       "    </tr>\n",
       "    <tr>\n",
       "      <th>2</th>\n",
       "      <td>1.4368</td>\n",
       "    </tr>\n",
       "    <tr>\n",
       "      <th>3</th>\n",
       "      <td>1.4412</td>\n",
       "    </tr>\n",
       "    <tr>\n",
       "      <th>4</th>\n",
       "      <td>1.4318</td>\n",
       "    </tr>\n",
       "  </tbody>\n",
       "</table>\n",
       "</div>"
      ],
      "text/plain": [
       "    price\n",
       "0  1.4323\n",
       "1  1.4411\n",
       "2  1.4368\n",
       "3  1.4412\n",
       "4  1.4318"
      ]
     },
     "execution_count": 47,
     "metadata": {},
     "output_type": "execute_result"
    }
   ],
   "source": [
    "data.head()"
   ]
  },
  {
   "cell_type": "code",
   "execution_count": 50,
   "id": "b29f019b-d0e2-41b4-80c7-c50dfaa7d599",
   "metadata": {},
   "outputs": [
    {
     "data": {
      "text/html": [
       "<div>\n",
       "<style scoped>\n",
       "    .dataframe tbody tr th:only-of-type {\n",
       "        vertical-align: middle;\n",
       "    }\n",
       "\n",
       "    .dataframe tbody tr th {\n",
       "        vertical-align: top;\n",
       "    }\n",
       "\n",
       "    .dataframe thead th {\n",
       "        text-align: right;\n",
       "    }\n",
       "</style>\n",
       "<table border=\"1\" class=\"dataframe\">\n",
       "  <thead>\n",
       "    <tr style=\"text-align: right;\">\n",
       "      <th></th>\n",
       "      <th>price</th>\n",
       "      <th>SMA1</th>\n",
       "      <th>SMA2</th>\n",
       "    </tr>\n",
       "  </thead>\n",
       "  <tbody>\n",
       "    <tr>\n",
       "      <th>2604</th>\n",
       "      <td>1.1096</td>\n",
       "      <td>1.107476</td>\n",
       "      <td>1.118769</td>\n",
       "    </tr>\n",
       "    <tr>\n",
       "      <th>2605</th>\n",
       "      <td>1.1175</td>\n",
       "      <td>1.107540</td>\n",
       "      <td>1.118624</td>\n",
       "    </tr>\n",
       "    <tr>\n",
       "      <th>2606</th>\n",
       "      <td>1.1197</td>\n",
       "      <td>1.107652</td>\n",
       "      <td>1.118505</td>\n",
       "    </tr>\n",
       "    <tr>\n",
       "      <th>2607</th>\n",
       "      <td>1.1210</td>\n",
       "      <td>1.107760</td>\n",
       "      <td>1.118403</td>\n",
       "    </tr>\n",
       "    <tr>\n",
       "      <th>2608</th>\n",
       "      <td>1.1210</td>\n",
       "      <td>1.107960</td>\n",
       "      <td>1.118298</td>\n",
       "    </tr>\n",
       "  </tbody>\n",
       "</table>\n",
       "</div>"
      ],
      "text/plain": [
       "       price      SMA1      SMA2\n",
       "2604  1.1096  1.107476  1.118769\n",
       "2605  1.1175  1.107540  1.118624\n",
       "2606  1.1197  1.107652  1.118505\n",
       "2607  1.1210  1.107760  1.118403\n",
       "2608  1.1210  1.107960  1.118298"
      ]
     },
     "execution_count": 50,
     "metadata": {},
     "output_type": "execute_result"
    }
   ],
   "source": [
    "data['SMA1'] = data['price'].rolling(42).mean()\n",
    "data['SMA2'] = data['price'].rolling(252).mean()\n",
    "data.tail()"
   ]
  },
  {
   "cell_type": "code",
   "execution_count": 66,
   "id": "8c321544-e20e-44ce-ae25-73eb824d5c15",
   "metadata": {},
   "outputs": [
    {
     "data": {
      "image/png": "[encoded data removed]",
      "text/plain": [
       "<Figure size 1000x600 with 1 Axes>"
      ]
     },
     "metadata": {},
     "output_type": "display_data"
    }
   ],
   "source": [
    "%matplotlib inline\n",
    "from pylab import mpl, plt\n",
    "plt.style.use('seaborn')\n",
    "mpl.rcParams['savefig.dpi'] = 300\n",
    "mpl.rcParams['font.family'] = 'sans-serif'\n",
    "data.plot(title='EUR/USS | 42 & 252 days SMAs',\n",
    "          figsize=(10, 6));"
   ]
  },
  {
   "cell_type": "code",
   "execution_count": 74,
   "id": "fbf73fee-79da-4e59-bd81-c2be4ea8c73d",
   "metadata": {},
   "outputs": [
    {
     "data": {
      "image/png": "[encoded data removed]",
      "text/plain": [
       "<Figure size 1000x600 with 1 Axes>"
      ]
     },
     "metadata": {},
     "output_type": "display_data"
    }
   ],
   "source": [
    "# simple strategy of long when SMA1 is above SMA2\n",
    "data['position'] = np.where(data['SMA1'] > data['SMA2'],\n",
    "                            1, -1)\n",
    "data.dropna(inplace=True)\n",
    "data['position'].plot(ylim=[-1.1, 1.1],\n",
    "                     title='market Positioning',\n",
    "                     figsize=(10,6));"
   ]
  },
  {
   "cell_type": "code",
   "execution_count": 76,
   "id": "d80fd99c-945d-436c-99c2-a229c8f6b024",
   "metadata": {},
   "outputs": [
    {
     "data": {
      "text/plain": [
       "251    1.3118\n",
       "252    1.3095\n",
       "253    1.3099\n",
       "254    1.3119\n",
       "255    1.3115\n",
       "Name: price, dtype: float64"
      ]
     },
     "execution_count": 76,
     "metadata": {},
     "output_type": "execute_result"
    }
   ],
   "source": [
    "data['returns'] = "
   ]
  },
  {
   "cell_type": "code",
   "execution_count": 78,
   "id": "fd7e475b-72ea-44d5-8f32-97d14167b011",
   "metadata": {},
   "outputs": [],
   "source": [
    "p = data.price / data.price.shift(1)"
   ]
  },
  {
   "cell_type": "code",
   "execution_count": 80,
   "id": "7434d3ab-b801-420e-ae6f-3b2b09427574",
   "metadata": {},
   "outputs": [
    {
     "data": {
      "text/plain": [
       "251         NaN\n",
       "252    0.998247\n",
       "253    1.000305\n",
       "254    1.001527\n",
       "255    0.999695\n",
       "Name: price, dtype: float64"
      ]
     },
     "execution_count": 80,
     "metadata": {},
     "output_type": "execute_result"
    }
   ],
   "source": [
    "p.head()"
   ]
  },
  {
   "cell_type": "code",
   "execution_count": null,
   "id": "0608529a-1295-4a56-aa38-743be6ef2b58",
   "metadata": {},
   "outputs": [],
   "source": []
  }
 ],
 "metadata": {
  "kernelspec": {
   "display_name": "Python 3 (ipykernel)",
   "language": "python",
   "name": "python3"
  },
  "language_info": {
   "codemirror_mode": {
    "name": "ipython",
    "version": 3
   },
   "file_extension": ".py",
   "mimetype": "text/x-python",
   "name": "python",
   "nbconvert_exporter": "python",
   "pygments_lexer": "ipython3",
   "version": "3.9.18"
  }
 },
 "nbformat": 4,
 "nbformat_minor": 5
}
