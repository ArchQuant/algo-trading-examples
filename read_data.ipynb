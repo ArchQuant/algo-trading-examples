{
 "cells": [
  {
   "cell_type": "markdown",
   "id": "bbaf180d-98da-4a28-bc87-4ea0e4380db2",
   "metadata": {},
   "source": [
    "# Reading Financial Data"
   ]
  },
  {
   "cell_type": "code",
   "execution_count": 7,
   "id": "20ddd1bf-603f-4eb6-b7d1-80449ad7116b",
   "metadata": {},
   "outputs": [
    {
     "name": "stdout",
     "output_type": "stream",
     "text": [
      "date,open,high,low,close,volume,Name\n",
      "2013-02-08,15.07,15.12,14.63,14.75,8407500,AAL\n",
      "2013-02-11,14.89,15.01,14.26,14.46,8882000,AAL\n",
      "2013-02-12,14.45,14.51,14.1,14.27,8126000,AAL\n",
      "2013-02-13,14.3,14.94,14.25,14.66,10259500,AAL\n"
     ]
    }
   ],
   "source": [
    "file = 'data/all_stocks_5yr.csv'\n",
    "with open(file, 'r') as f:\n",
    "    for _ in range(5):\n",
    "        print(f.readline(), end='')"
   ]
  },
  {
   "cell_type": "markdown",
   "id": "1c7e3aa2-83c2-4db5-b1c5-3e524a35543e",
   "metadata": {},
   "source": [
    "## Reading CSV with Python"
   ]
  },
  {
   "cell_type": "code",
   "execution_count": 8,
   "id": "ef8939af-7d5c-43ae-8657-5b208bd4a958",
   "metadata": {
    "scrolled": true
   },
   "outputs": [
    {
     "data": {
      "text/plain": [
       "[['2017-01-27', '50.0', '50.0', '46.72', '46.95', '19411050', 'AAL'],\n",
       " ['2017-01-30', '45.62', '45.92', '43.86', '44.9', '16786050', 'AAL'],\n",
       " ['2017-01-31', '44.79', '44.84', '43.742', '44.25', '11719842', 'AAL'],\n",
       " ['2017-02-01', '44.75', '45.0', '43.91', '44.05', '7955513', 'AAL'],\n",
       " ['2017-02-02', '43.61', '44.52', '43.57', '44.01', '7607665', 'AAL']]"
      ]
     },
     "execution_count": 8,
     "metadata": {},
     "output_type": "execute_result"
    }
   ],
   "source": [
    "import csv\n",
    "csv_reader = csv.reader(open(file, 'r'))\n",
    "data_csv = list(csv_reader)\n",
    "data_csv[1000:1005]"
   ]
  },
  {
   "cell_type": "code",
   "execution_count": 9,
   "id": "ca13971c-f734-4329-ac08-ef241729a17b",
   "metadata": {},
   "outputs": [
    {
     "data": {
      "text/plain": [
       "[{'date': '2013-02-08',\n",
       "  'open': '15.07',\n",
       "  'high': '15.12',\n",
       "  'low': '14.63',\n",
       "  'close': '14.75',\n",
       "  'volume': '8407500',\n",
       "  'Name': 'AAL'},\n",
       " {'date': '2013-02-11',\n",
       "  'open': '14.89',\n",
       "  'high': '15.01',\n",
       "  'low': '14.26',\n",
       "  'close': '14.46',\n",
       "  'volume': '8882000',\n",
       "  'Name': 'AAL'},\n",
       " {'date': '2013-02-12',\n",
       "  'open': '14.45',\n",
       "  'high': '14.51',\n",
       "  'low': '14.1',\n",
       "  'close': '14.27',\n",
       "  'volume': '8126000',\n",
       "  'Name': 'AAL'}]"
      ]
     },
     "execution_count": 9,
     "metadata": {},
     "output_type": "execute_result"
    }
   ],
   "source": [
    "csv_reader = csv.DictReader(open(file, 'r'))\n",
    "data_dict = list(csv_reader)\n",
    "data_dict[:3]"
   ]
  },
  {
   "cell_type": "code",
   "execution_count": 10,
   "id": "8c7470e8-0eae-44e6-8691-7da061adcbb3",
   "metadata": {},
   "outputs": [
    {
     "data": {
      "text/plain": [
       "83.04376276476357"
      ]
     },
     "execution_count": 10,
     "metadata": {},
     "output_type": "execute_result"
    }
   ],
   "source": [
    "sum([float(l['close']) for l in data_dict]) / len(data_dict)"
   ]
  },
  {
   "cell_type": "code",
   "execution_count": 11,
   "id": "e2b60b41-5a6b-4404-abc2-9595d6423180",
   "metadata": {},
   "outputs": [
    {
     "data": {
      "text/plain": [
       "1259"
      ]
     },
     "execution_count": 11,
     "metadata": {},
     "output_type": "execute_result"
    }
   ],
   "source": [
    "sum(l['Name']=='AAL' for l in data_dict)"
   ]
  },
  {
   "cell_type": "code",
   "execution_count": 12,
   "id": "17e5339a-1977-49a5-9a8c-bdfec4e2abab",
   "metadata": {},
   "outputs": [
    {
     "data": {
      "text/plain": [
       "38.39325226370134"
      ]
     },
     "execution_count": 12,
     "metadata": {},
     "output_type": "execute_result"
    }
   ],
   "source": [
    "sum([float(l['close']) for l in data_dict if l['Name']=='AAL']) / sum(l['Name']=='AAL' for l in data_dict)"
   ]
  },
  {
   "cell_type": "markdown",
   "id": "4dfacd5d-b997-4faf-8c59-ea7d5c103b5f",
   "metadata": {},
   "source": [
    "## Reading CSV with pandas"
   ]
  },
  {
   "cell_type": "code",
   "execution_count": 13,
   "id": "6fb249fd-a3af-4832-80c8-c2f02b773ee2",
   "metadata": {},
   "outputs": [],
   "source": [
    "import pandas as pd\n",
    "data_df = pd.read_csv(file, index_col=0,\n",
    "                      parse_dates=True)"
   ]
  },
  {
   "cell_type": "code",
   "execution_count": 14,
   "id": "8b0b877d-4dc7-4517-bf2a-5007de0cac64",
   "metadata": {},
   "outputs": [
    {
     "name": "stdout",
     "output_type": "stream",
     "text": [
      "<class 'pandas.core.frame.DataFrame'>\n",
      "DatetimeIndex: 619040 entries, 2013-02-08 to 2018-02-07\n",
      "Data columns (total 6 columns):\n",
      " #   Column  Non-Null Count   Dtype  \n",
      "---  ------  --------------   -----  \n",
      " 0   open    619029 non-null  float64\n",
      " 1   high    619032 non-null  float64\n",
      " 2   low     619032 non-null  float64\n",
      " 3   close   619040 non-null  float64\n",
      " 4   volume  619040 non-null  int64  \n",
      " 5   Name    619040 non-null  object \n",
      "dtypes: float64(4), int64(1), object(1)\n",
      "memory usage: 33.1+ MB\n"
     ]
    }
   ],
   "source": [
    "data_df.info()"
   ]
  },
  {
   "cell_type": "code",
   "execution_count": 15,
   "id": "56e73637-dc9f-4df2-9fdd-3e4d27fd65d7",
   "metadata": {},
   "outputs": [
    {
     "data": {
      "text/html": [
       "<div>\n",
       "<style scoped>\n",
       "    .dataframe tbody tr th:only-of-type {\n",
       "        vertical-align: middle;\n",
       "    }\n",
       "\n",
       "    .dataframe tbody tr th {\n",
       "        vertical-align: top;\n",
       "    }\n",
       "\n",
       "    .dataframe thead th {\n",
       "        text-align: right;\n",
       "    }\n",
       "</style>\n",
       "<table border=\"1\" class=\"dataframe\">\n",
       "  <thead>\n",
       "    <tr style=\"text-align: right;\">\n",
       "      <th></th>\n",
       "      <th>open</th>\n",
       "      <th>high</th>\n",
       "      <th>low</th>\n",
       "      <th>close</th>\n",
       "      <th>volume</th>\n",
       "      <th>Name</th>\n",
       "    </tr>\n",
       "    <tr>\n",
       "      <th>date</th>\n",
       "      <th></th>\n",
       "      <th></th>\n",
       "      <th></th>\n",
       "      <th></th>\n",
       "      <th></th>\n",
       "      <th></th>\n",
       "    </tr>\n",
       "  </thead>\n",
       "  <tbody>\n",
       "    <tr>\n",
       "      <th>2018-02-01</th>\n",
       "      <td>76.84</td>\n",
       "      <td>78.27</td>\n",
       "      <td>76.69</td>\n",
       "      <td>77.82</td>\n",
       "      <td>2982259</td>\n",
       "      <td>ZTS</td>\n",
       "    </tr>\n",
       "    <tr>\n",
       "      <th>2018-02-02</th>\n",
       "      <td>77.53</td>\n",
       "      <td>78.12</td>\n",
       "      <td>76.73</td>\n",
       "      <td>76.78</td>\n",
       "      <td>2595187</td>\n",
       "      <td>ZTS</td>\n",
       "    </tr>\n",
       "    <tr>\n",
       "      <th>2018-02-05</th>\n",
       "      <td>76.64</td>\n",
       "      <td>76.92</td>\n",
       "      <td>73.18</td>\n",
       "      <td>73.83</td>\n",
       "      <td>2962031</td>\n",
       "      <td>ZTS</td>\n",
       "    </tr>\n",
       "    <tr>\n",
       "      <th>2018-02-06</th>\n",
       "      <td>72.74</td>\n",
       "      <td>74.56</td>\n",
       "      <td>72.13</td>\n",
       "      <td>73.27</td>\n",
       "      <td>4924323</td>\n",
       "      <td>ZTS</td>\n",
       "    </tr>\n",
       "    <tr>\n",
       "      <th>2018-02-07</th>\n",
       "      <td>72.70</td>\n",
       "      <td>75.00</td>\n",
       "      <td>72.69</td>\n",
       "      <td>73.86</td>\n",
       "      <td>4534912</td>\n",
       "      <td>ZTS</td>\n",
       "    </tr>\n",
       "  </tbody>\n",
       "</table>\n",
       "</div>"
      ],
      "text/plain": [
       "             open   high    low  close   volume Name\n",
       "date                                                \n",
       "2018-02-01  76.84  78.27  76.69  77.82  2982259  ZTS\n",
       "2018-02-02  77.53  78.12  76.73  76.78  2595187  ZTS\n",
       "2018-02-05  76.64  76.92  73.18  73.83  2962031  ZTS\n",
       "2018-02-06  72.74  74.56  72.13  73.27  4924323  ZTS\n",
       "2018-02-07  72.70  75.00  72.69  73.86  4534912  ZTS"
      ]
     },
     "execution_count": 15,
     "metadata": {},
     "output_type": "execute_result"
    }
   ],
   "source": [
    "data_df.tail()"
   ]
  },
  {
   "cell_type": "code",
   "execution_count": 16,
   "id": "dbce6314-5dea-460b-a448-4cb839a49a8a",
   "metadata": {},
   "outputs": [
    {
     "data": {
      "text/plain": [
       "109.06669849086578"
      ]
     },
     "execution_count": 16,
     "metadata": {},
     "output_type": "execute_result"
    }
   ],
   "source": [
    "data_df['close'].loc[data_df['Name'] == 'AAPL'].mean()"
   ]
  },
  {
   "cell_type": "markdown",
   "id": "3c7f9988-927e-40f5-8ac9-168d78c29cff",
   "metadata": {},
   "source": [
    "## Writing to and Reading from Excel and JSON"
   ]
  },
  {
   "cell_type": "markdown",
   "id": "a6964e03-6407-4863-b40f-a53a8e3ea6a4",
   "metadata": {},
   "source": [
    "### .xls "
   ]
  },
  {
   "cell_type": "code",
   "execution_count": 17,
   "id": "5dfe90c2-bee9-4f09-a076-9de1ff4fb035",
   "metadata": {},
   "outputs": [
    {
     "name": "stderr",
     "output_type": "stream",
     "text": [
      "C:\\Users\\Michael\\AppData\\Local\\Temp\\ipykernel_25420\\3552209725.py:2: FutureWarning: As the xlwt package is no longer maintained, the xlwt engine will be removed in a future version of pandas. This is the only engine in pandas that supports writing in the xls format. Install openpyxl and write to an xlsx file instead. You can set the option io.excel.xls.writer to 'xlwt' to silence this warning. While this option is deprecated and will also raise a warning, it can be globally set and the warning suppressed.\n",
      "  df_aapl.to_excel('data/aapl.xls', 'AAPL')\n"
     ]
    }
   ],
   "source": [
    "df_aapl = data_df.loc[data_df['Name'] == 'AAPL']\n",
    "df_aapl.to_excel('data/aapl.xls', 'AAPL')"
   ]
  },
  {
   "cell_type": "code",
   "execution_count": 18,
   "id": "96568cdf-0b4f-461e-89fa-73cbc5ff98e9",
   "metadata": {},
   "outputs": [
    {
     "data": {
      "text/html": [
       "<div>\n",
       "<style scoped>\n",
       "    .dataframe tbody tr th:only-of-type {\n",
       "        vertical-align: middle;\n",
       "    }\n",
       "\n",
       "    .dataframe tbody tr th {\n",
       "        vertical-align: top;\n",
       "    }\n",
       "\n",
       "    .dataframe thead th {\n",
       "        text-align: right;\n",
       "    }\n",
       "</style>\n",
       "<table border=\"1\" class=\"dataframe\">\n",
       "  <thead>\n",
       "    <tr style=\"text-align: right;\">\n",
       "      <th></th>\n",
       "      <th>open</th>\n",
       "      <th>high</th>\n",
       "      <th>low</th>\n",
       "      <th>close</th>\n",
       "      <th>volume</th>\n",
       "      <th>Name</th>\n",
       "    </tr>\n",
       "    <tr>\n",
       "      <th>date</th>\n",
       "      <th></th>\n",
       "      <th></th>\n",
       "      <th></th>\n",
       "      <th></th>\n",
       "      <th></th>\n",
       "      <th></th>\n",
       "    </tr>\n",
       "  </thead>\n",
       "  <tbody>\n",
       "    <tr>\n",
       "      <th>2013-02-08</th>\n",
       "      <td>67.7142</td>\n",
       "      <td>68.4014</td>\n",
       "      <td>66.8928</td>\n",
       "      <td>67.8542</td>\n",
       "      <td>158168416</td>\n",
       "      <td>AAPL</td>\n",
       "    </tr>\n",
       "    <tr>\n",
       "      <th>2013-02-11</th>\n",
       "      <td>68.0714</td>\n",
       "      <td>69.2771</td>\n",
       "      <td>67.6071</td>\n",
       "      <td>68.5614</td>\n",
       "      <td>129029425</td>\n",
       "      <td>AAPL</td>\n",
       "    </tr>\n",
       "    <tr>\n",
       "      <th>2013-02-12</th>\n",
       "      <td>68.5014</td>\n",
       "      <td>68.9114</td>\n",
       "      <td>66.8205</td>\n",
       "      <td>66.8428</td>\n",
       "      <td>151829363</td>\n",
       "      <td>AAPL</td>\n",
       "    </tr>\n",
       "    <tr>\n",
       "      <th>2013-02-13</th>\n",
       "      <td>66.7442</td>\n",
       "      <td>67.6628</td>\n",
       "      <td>66.1742</td>\n",
       "      <td>66.7156</td>\n",
       "      <td>118721995</td>\n",
       "      <td>AAPL</td>\n",
       "    </tr>\n",
       "    <tr>\n",
       "      <th>2013-02-14</th>\n",
       "      <td>66.3599</td>\n",
       "      <td>67.3771</td>\n",
       "      <td>66.2885</td>\n",
       "      <td>66.6556</td>\n",
       "      <td>88809154</td>\n",
       "      <td>AAPL</td>\n",
       "    </tr>\n",
       "  </tbody>\n",
       "</table>\n",
       "</div>"
      ],
      "text/plain": [
       "               open     high      low    close     volume  Name\n",
       "date                                                           \n",
       "2013-02-08  67.7142  68.4014  66.8928  67.8542  158168416  AAPL\n",
       "2013-02-11  68.0714  69.2771  67.6071  68.5614  129029425  AAPL\n",
       "2013-02-12  68.5014  68.9114  66.8205  66.8428  151829363  AAPL\n",
       "2013-02-13  66.7442  67.6628  66.1742  66.7156  118721995  AAPL\n",
       "2013-02-14  66.3599  67.3771  66.2885  66.6556   88809154  AAPL"
      ]
     },
     "execution_count": 18,
     "metadata": {},
     "output_type": "execute_result"
    }
   ],
   "source": [
    "data_copy_1 = pd.read_excel('data/aapl.xls', 'AAPL', index_col=0)\n",
    "data_copy_1.head()"
   ]
  },
  {
   "cell_type": "markdown",
   "id": "5b5d34d7-8c8a-4bd5-a189-f5f61dd6c61f",
   "metadata": {},
   "source": [
    "### .xlsx"
   ]
  },
  {
   "cell_type": "code",
   "execution_count": 19,
   "id": "18fc7165-e4d6-47a6-b89e-34b857d8c11e",
   "metadata": {},
   "outputs": [],
   "source": [
    "import openpyxl\n",
    "# another alternative is xlwings\n",
    "file_xlsx = 'data/aapl.xlsx'\n",
    "wb = openpyxl.Workbook()\n",
    "wb.save(file_xlsx)"
   ]
  },
  {
   "cell_type": "code",
   "execution_count": 20,
   "id": "2f6d9702-4a0a-417e-8271-08e7f1ceaa66",
   "metadata": {},
   "outputs": [],
   "source": [
    "from openpyxl.utils.dataframe import dataframe_to_rows\n",
    "wb = openpyxl.load_workbook(file_xlsx)\n",
    "ws = wb.active\n",
    "\n",
    "rows = dataframe_to_rows(df_aapl, index=True, header = True)\n",
    "for r_idx, row in enumerate(rows, 1):\n",
    "    for c_idx, value in enumerate(row, 1):\n",
    "        ws.cell(row=r_idx, column=c_idx, value=value)\n",
    "wb.save(file_xlsx)"
   ]
  },
  {
   "cell_type": "code",
   "execution_count": 21,
   "id": "ee7b6e91-4f7d-4850-b990-51eb47db796e",
   "metadata": {},
   "outputs": [
    {
     "name": "stdout",
     "output_type": "stream",
     "text": [
      "68.9114\n"
     ]
    }
   ],
   "source": [
    "wb_obj = openpyxl.load_workbook(file_xlsx)\n",
    "sheet_obj = wb_obj.active\n",
    "cell_obj = sheet_obj['C5']\n",
    "print(cell_obj.value)"
   ]
  },
  {
   "cell_type": "markdown",
   "id": "dea2c7b6-c28a-4eba-a7a3-8a7069eff49a",
   "metadata": {},
   "source": [
    "https://www.blog.pythonlibrary.org/2021/07/20/reading-spreadsheets-with-openpyxl-and-python/"
   ]
  },
  {
   "cell_type": "code",
   "execution_count": 22,
   "id": "977f2cfc-d560-476a-b3cc-fb07cc66a289",
   "metadata": {},
   "outputs": [
    {
     "name": "stdout",
     "output_type": "stream",
     "text": [
      "(None, 'open', 'high')\n",
      "('date', None, None)\n",
      "(datetime.datetime(2013, 2, 8, 0, 0), 67.7142, 68.4014)\n"
     ]
    }
   ],
   "source": [
    "for value in sheet_obj.iter_rows(min_row=1, max_row=3, min_col=1, max_col=3, values_only=True):\n",
    "    print(value)"
   ]
  },
  {
   "cell_type": "markdown",
   "id": "eba6ed79-a3c8-4442-8809-e932291e4cc2",
   "metadata": {},
   "source": [
    "### .json"
   ]
  },
  {
   "cell_type": "code",
   "execution_count": 23,
   "id": "315c9bba-08c0-4ec3-ba41-5f00ee34fa9e",
   "metadata": {},
   "outputs": [],
   "source": [
    "df_aapl.to_json('data/aapl.json')"
   ]
  },
  {
   "cell_type": "code",
   "execution_count": 24,
   "id": "5af478b2-a0e3-439d-9c81-d73e1299acc3",
   "metadata": {},
   "outputs": [
    {
     "name": "stdout",
     "output_type": "stream",
     "text": [
      " Volume in drive C is OS\n",
      " Volume Serial Number is 8A40-DA6B\n",
      "\n",
      " Directory of C:\\Users\\Michael\\source\\algo-trading-examples\n",
      "\n",
      "\n",
      " Directory of C:\\Users\\Michael\\source\\algo-trading-examples\\data\n",
      "\n",
      "2023/12/25  17:49    <DIR>          .\n",
      "2023/12/25  17:49    <DIR>          ..\n",
      "2023/12/25  18:19           176,760 aapl.json\n",
      "2023/12/25  18:19           129,024 aapl.xls\n",
      "2023/12/25  18:19            58,639 aapl.xlsx\n",
      "2023/12/13  22:41        29,580,549 all_stocks_5yr.csv\n",
      "2023/12/25  18:18            95,240 data.h5\n",
      "2023/12/25  18:18                 0 data.h5ts\n",
      "2023/12/25  18:18           152,878 data2.h5\n",
      "               7 File(s)     30,193,090 bytes\n",
      "               2 Dir(s)  62,514,995,200 bytes free\n"
     ]
    },
    {
     "name": "stderr",
     "output_type": "stream",
     "text": [
      "File Not Found\n"
     ]
    }
   ],
   "source": [
    "ls -n data"
   ]
  },
  {
   "cell_type": "code",
   "execution_count": 25,
   "id": "bd4430c4-e308-4107-936e-458f746fa2a7",
   "metadata": {},
   "outputs": [],
   "source": [
    "data_copy_2 = pd.read_json('data/aapl.json')"
   ]
  },
  {
   "cell_type": "code",
   "execution_count": 26,
   "id": "64536d8e-0eca-4dbb-b6df-21785174454c",
   "metadata": {},
   "outputs": [
    {
     "data": {
      "text/html": [
       "<div>\n",
       "<style scoped>\n",
       "    .dataframe tbody tr th:only-of-type {\n",
       "        vertical-align: middle;\n",
       "    }\n",
       "\n",
       "    .dataframe tbody tr th {\n",
       "        vertical-align: top;\n",
       "    }\n",
       "\n",
       "    .dataframe thead th {\n",
       "        text-align: right;\n",
       "    }\n",
       "</style>\n",
       "<table border=\"1\" class=\"dataframe\">\n",
       "  <thead>\n",
       "    <tr style=\"text-align: right;\">\n",
       "      <th></th>\n",
       "      <th>open</th>\n",
       "      <th>high</th>\n",
       "      <th>low</th>\n",
       "      <th>close</th>\n",
       "      <th>volume</th>\n",
       "      <th>Name</th>\n",
       "    </tr>\n",
       "  </thead>\n",
       "  <tbody>\n",
       "    <tr>\n",
       "      <th>2013-02-08</th>\n",
       "      <td>67.7142</td>\n",
       "      <td>68.4014</td>\n",
       "      <td>66.8928</td>\n",
       "      <td>67.8542</td>\n",
       "      <td>158168416</td>\n",
       "      <td>AAPL</td>\n",
       "    </tr>\n",
       "    <tr>\n",
       "      <th>2013-02-11</th>\n",
       "      <td>68.0714</td>\n",
       "      <td>69.2771</td>\n",
       "      <td>67.6071</td>\n",
       "      <td>68.5614</td>\n",
       "      <td>129029425</td>\n",
       "      <td>AAPL</td>\n",
       "    </tr>\n",
       "    <tr>\n",
       "      <th>2013-02-12</th>\n",
       "      <td>68.5014</td>\n",
       "      <td>68.9114</td>\n",
       "      <td>66.8205</td>\n",
       "      <td>66.8428</td>\n",
       "      <td>151829363</td>\n",
       "      <td>AAPL</td>\n",
       "    </tr>\n",
       "    <tr>\n",
       "      <th>2013-02-13</th>\n",
       "      <td>66.7442</td>\n",
       "      <td>67.6628</td>\n",
       "      <td>66.1742</td>\n",
       "      <td>66.7156</td>\n",
       "      <td>118721995</td>\n",
       "      <td>AAPL</td>\n",
       "    </tr>\n",
       "    <tr>\n",
       "      <th>2013-02-14</th>\n",
       "      <td>66.3599</td>\n",
       "      <td>67.3771</td>\n",
       "      <td>66.2885</td>\n",
       "      <td>66.6556</td>\n",
       "      <td>88809154</td>\n",
       "      <td>AAPL</td>\n",
       "    </tr>\n",
       "  </tbody>\n",
       "</table>\n",
       "</div>"
      ],
      "text/plain": [
       "               open     high      low    close     volume  Name\n",
       "2013-02-08  67.7142  68.4014  66.8928  67.8542  158168416  AAPL\n",
       "2013-02-11  68.0714  69.2771  67.6071  68.5614  129029425  AAPL\n",
       "2013-02-12  68.5014  68.9114  66.8205  66.8428  151829363  AAPL\n",
       "2013-02-13  66.7442  67.6628  66.1742  66.7156  118721995  AAPL\n",
       "2013-02-14  66.3599  67.3771  66.2885  66.6556   88809154  AAPL"
      ]
     },
     "execution_count": 26,
     "metadata": {},
     "output_type": "execute_result"
    }
   ],
   "source": [
    "data_copy_2.head()"
   ]
  },
  {
   "cell_type": "markdown",
   "id": "4b7e5b63-ae93-4120-974d-0e989eb88e4e",
   "metadata": {},
   "source": [
    "## Open Data Sources"
   ]
  },
  {
   "cell_type": "markdown",
   "id": "d755961c-0ff2-4273-94d5-21d7b160bf6c",
   "metadata": {},
   "source": [
    "## quandl"
   ]
  },
  {
   "cell_type": "code",
   "execution_count": 27,
   "id": "abecb7b0-5d76-42da-9581-7c3a7dc444d9",
   "metadata": {},
   "outputs": [],
   "source": [
    "import configparser"
   ]
  },
  {
   "cell_type": "code",
   "execution_count": 28,
   "id": "7f766cff-b1ed-4e9d-b138-5693e4ee0ba7",
   "metadata": {},
   "outputs": [
    {
     "data": {
      "text/plain": [
       "['../aq.cfg']"
      ]
     },
     "execution_count": 28,
     "metadata": {},
     "output_type": "execute_result"
    }
   ],
   "source": [
    "config = configparser.ConfigParser()\n",
    "config.read('../aq.cfg')"
   ]
  },
  {
   "cell_type": "code",
   "execution_count": 29,
   "id": "aed50b16-e8b7-4adc-a288-b8b8415461ff",
   "metadata": {},
   "outputs": [],
   "source": [
    "import quandl as q\n",
    "data = q.get('BCHAIN/MKPRU', api_key=config['quandl']['api_key'])"
   ]
  },
  {
   "cell_type": "code",
   "execution_count": 30,
   "id": "40e3e4cf-c4f6-456c-b0fd-4302c45410dd",
   "metadata": {},
   "outputs": [
    {
     "name": "stdout",
     "output_type": "stream",
     "text": [
      "<class 'pandas.core.frame.DataFrame'>\n",
      "DatetimeIndex: 5471 entries, 2009-01-02 to 2023-12-25\n",
      "Data columns (total 1 columns):\n",
      " #   Column  Non-Null Count  Dtype  \n",
      "---  ------  --------------  -----  \n",
      " 0   Value   5471 non-null   float64\n",
      "dtypes: float64(1)\n",
      "memory usage: 85.5 KB\n"
     ]
    }
   ],
   "source": [
    "data.info()"
   ]
  },
  {
   "cell_type": "code",
   "execution_count": 31,
   "id": "3222bd53-5269-4412-b1c6-dd6f36349513",
   "metadata": {},
   "outputs": [
    {
     "data": {
      "text/plain": [
       "Date\n",
       "2009-12-31        0.000000\n",
       "2010-12-31        0.299998\n",
       "2011-12-31        4.470000\n",
       "2012-12-31       13.570000\n",
       "2013-12-31      746.900000\n",
       "2014-12-31      315.700000\n",
       "2015-12-31      428.230000\n",
       "2016-12-31      958.120000\n",
       "2017-12-31    14165.575000\n",
       "2018-12-31     3791.545833\n",
       "2019-12-31     7219.600000\n",
       "2020-12-31    28856.590000\n",
       "2021-12-31    47132.960000\n",
       "2022-12-31    16599.690000\n",
       "2023-12-31    43013.460000\n",
       "Freq: A-DEC, Name: Value, dtype: float64"
      ]
     },
     "execution_count": 31,
     "metadata": {},
     "output_type": "execute_result"
    }
   ],
   "source": [
    "data['Value'].resample('A').last()"
   ]
  },
  {
   "cell_type": "code",
   "execution_count": 32,
   "id": "5776da52-367c-4128-a702-a69a348ef160",
   "metadata": {},
   "outputs": [
    {
     "data": {
      "text/plain": [
       "Index(['Value'], dtype='object')"
      ]
     },
     "execution_count": 32,
     "metadata": {},
     "output_type": "execute_result"
    }
   ],
   "source": [
    "data.keys()"
   ]
  },
  {
   "cell_type": "code",
   "execution_count": 33,
   "id": "bf4ed46e-c4ba-4164-95ee-866d2cf07c19",
   "metadata": {},
   "outputs": [],
   "source": [
    "data_fse = q.get('FSE/SAP_X', start_date='2019-6-1',\n",
    "                 end_date='2023-5-1',\n",
    "                 api_key=config['quandl']['api_key'])"
   ]
  },
  {
   "cell_type": "code",
   "execution_count": 34,
   "id": "49558b48-72f1-4028-9f4f-1273c7670c91",
   "metadata": {},
   "outputs": [
    {
     "name": "stdout",
     "output_type": "stream",
     "text": [
      "<class 'pandas.core.frame.DataFrame'>\n",
      "DatetimeIndex: 381 entries, 2019-06-03 to 2020-12-01\n",
      "Data columns (total 10 columns):\n",
      " #   Column                 Non-Null Count  Dtype  \n",
      "---  ------                 --------------  -----  \n",
      " 0   Open                   381 non-null    float64\n",
      " 1   High                   381 non-null    float64\n",
      " 2   Low                    381 non-null    float64\n",
      " 3   Close                  381 non-null    float64\n",
      " 4   Change                 0 non-null      object \n",
      " 5   Traded Volume          381 non-null    float64\n",
      " 6   Turnover               381 non-null    float64\n",
      " 7   Last Price of the Day  0 non-null      object \n",
      " 8   Daily Traded Units     0 non-null      object \n",
      " 9   Daily Turnover         0 non-null      object \n",
      "dtypes: float64(6), object(4)\n",
      "memory usage: 32.7+ KB\n"
     ]
    }
   ],
   "source": [
    "data_fse.info()"
   ]
  },
  {
   "cell_type": "code",
   "execution_count": 35,
   "id": "fd8ce42d-5b96-43fd-8909-768a08a2fb61",
   "metadata": {},
   "outputs": [
    {
     "data": {
      "text/html": [
       "<div>\n",
       "<style scoped>\n",
       "    .dataframe tbody tr th:only-of-type {\n",
       "        vertical-align: middle;\n",
       "    }\n",
       "\n",
       "    .dataframe tbody tr th {\n",
       "        vertical-align: top;\n",
       "    }\n",
       "\n",
       "    .dataframe thead th {\n",
       "        text-align: right;\n",
       "    }\n",
       "</style>\n",
       "<table border=\"1\" class=\"dataframe\">\n",
       "  <thead>\n",
       "    <tr style=\"text-align: right;\">\n",
       "      <th></th>\n",
       "      <th>Open</th>\n",
       "      <th>High</th>\n",
       "      <th>Low</th>\n",
       "      <th>Close</th>\n",
       "      <th>Change</th>\n",
       "      <th>Traded Volume</th>\n",
       "      <th>Turnover</th>\n",
       "      <th>Last Price of the Day</th>\n",
       "      <th>Daily Traded Units</th>\n",
       "      <th>Daily Turnover</th>\n",
       "    </tr>\n",
       "    <tr>\n",
       "      <th>Date</th>\n",
       "      <th></th>\n",
       "      <th></th>\n",
       "      <th></th>\n",
       "      <th></th>\n",
       "      <th></th>\n",
       "      <th></th>\n",
       "      <th></th>\n",
       "      <th></th>\n",
       "      <th></th>\n",
       "      <th></th>\n",
       "    </tr>\n",
       "  </thead>\n",
       "  <tbody>\n",
       "    <tr>\n",
       "      <th>2019-06-03</th>\n",
       "      <td>109.60</td>\n",
       "      <td>111.38</td>\n",
       "      <td>109.18</td>\n",
       "      <td>111.22</td>\n",
       "      <td>None</td>\n",
       "      <td>2280685.0</td>\n",
       "      <td>252856160.0</td>\n",
       "      <td>None</td>\n",
       "      <td>None</td>\n",
       "      <td>None</td>\n",
       "    </tr>\n",
       "    <tr>\n",
       "      <th>2019-06-04</th>\n",
       "      <td>108.92</td>\n",
       "      <td>111.14</td>\n",
       "      <td>108.28</td>\n",
       "      <td>111.14</td>\n",
       "      <td>None</td>\n",
       "      <td>2637001.0</td>\n",
       "      <td>290661920.0</td>\n",
       "      <td>None</td>\n",
       "      <td>None</td>\n",
       "      <td>None</td>\n",
       "    </tr>\n",
       "    <tr>\n",
       "      <th>2019-06-05</th>\n",
       "      <td>112.24</td>\n",
       "      <td>113.92</td>\n",
       "      <td>111.48</td>\n",
       "      <td>111.96</td>\n",
       "      <td>None</td>\n",
       "      <td>2471815.0</td>\n",
       "      <td>277935968.0</td>\n",
       "      <td>None</td>\n",
       "      <td>None</td>\n",
       "      <td>None</td>\n",
       "    </tr>\n",
       "    <tr>\n",
       "      <th>2019-06-06</th>\n",
       "      <td>112.16</td>\n",
       "      <td>112.80</td>\n",
       "      <td>110.58</td>\n",
       "      <td>111.38</td>\n",
       "      <td>None</td>\n",
       "      <td>1885826.0</td>\n",
       "      <td>210470160.0</td>\n",
       "      <td>None</td>\n",
       "      <td>None</td>\n",
       "      <td>None</td>\n",
       "    </tr>\n",
       "    <tr>\n",
       "      <th>2019-06-07</th>\n",
       "      <td>112.10</td>\n",
       "      <td>114.24</td>\n",
       "      <td>112.08</td>\n",
       "      <td>113.72</td>\n",
       "      <td>None</td>\n",
       "      <td>2354457.0</td>\n",
       "      <td>267202080.0</td>\n",
       "      <td>None</td>\n",
       "      <td>None</td>\n",
       "      <td>None</td>\n",
       "    </tr>\n",
       "  </tbody>\n",
       "</table>\n",
       "</div>"
      ],
      "text/plain": [
       "              Open    High     Low   Close Change  Traded Volume     Turnover  \\\n",
       "Date                                                                            \n",
       "2019-06-03  109.60  111.38  109.18  111.22   None      2280685.0  252856160.0   \n",
       "2019-06-04  108.92  111.14  108.28  111.14   None      2637001.0  290661920.0   \n",
       "2019-06-05  112.24  113.92  111.48  111.96   None      2471815.0  277935968.0   \n",
       "2019-06-06  112.16  112.80  110.58  111.38   None      1885826.0  210470160.0   \n",
       "2019-06-07  112.10  114.24  112.08  113.72   None      2354457.0  267202080.0   \n",
       "\n",
       "           Last Price of the Day Daily Traded Units Daily Turnover  \n",
       "Date                                                                \n",
       "2019-06-03                  None               None           None  \n",
       "2019-06-04                  None               None           None  \n",
       "2019-06-05                  None               None           None  \n",
       "2019-06-06                  None               None           None  \n",
       "2019-06-07                  None               None           None  "
      ]
     },
     "execution_count": 35,
     "metadata": {},
     "output_type": "execute_result"
    }
   ],
   "source": [
    "data_fse.head()"
   ]
  },
  {
   "cell_type": "code",
   "execution_count": 36,
   "id": "97b4f00a-453d-4bea-986a-9d061d88856b",
   "metadata": {},
   "outputs": [],
   "source": [
    "q.ApiConfig.api_key = config['quandl']['api_key']\n",
    "#vol = q.get('VOL/MSFT')\n",
    "#vol.iloc[:,:10].info()\n",
    "#vol[['IvMean30', 'IvMean60', 'IvMean90']].tail()"
   ]
  },
  {
   "cell_type": "code",
   "execution_count": 37,
   "id": "8119516d-4362-46bc-a95a-f349e993ddb1",
   "metadata": {},
   "outputs": [
    {
     "data": {
      "text/plain": [
       "Index(['Open', 'High', 'Low', 'Close', 'Change', 'Traded Volume', 'Turnover',\n",
       "       'Last Price of the Day', 'Daily Traded Units', 'Daily Turnover'],\n",
       "      dtype='object')"
      ]
     },
     "execution_count": 37,
     "metadata": {},
     "output_type": "execute_result"
    }
   ],
   "source": [
    "data_fse.keys()"
   ]
  }
 ],
 "metadata": {
  "kernelspec": {
   "display_name": "Python 3 (ipykernel)",
   "language": "python",
   "name": "python3"
  },
  "language_info": {
   "codemirror_mode": {
    "name": "ipython",
    "version": 3
   },
   "file_extension": ".py",
   "mimetype": "text/x-python",
   "name": "python",
   "nbconvert_exporter": "python",
   "pygments_lexer": "ipython3",
   "version": "3.9.18"
  }
 },
 "nbformat": 4,
 "nbformat_minor": 5
}
